{
 "cells": [
  {
   "cell_type": "code",
   "execution_count": 1,
   "metadata": {},
   "outputs": [],
   "source": [
    "import numpy as np\n",
    "import pandas as pd\n",
    "import seaborn as sn\n",
    "import statsmodels.api as sm\n",
    "import matplotlib.pyplot as plt\n",
    "from sklearn.linear_model import Ridge"
   ]
  },
  {
   "cell_type": "code",
   "execution_count": 18,
   "metadata": {},
   "outputs": [
    {
     "data": {
      "text/html": [
       "<div>\n",
       "<style scoped>\n",
       "    .dataframe tbody tr th:only-of-type {\n",
       "        vertical-align: middle;\n",
       "    }\n",
       "\n",
       "    .dataframe tbody tr th {\n",
       "        vertical-align: top;\n",
       "    }\n",
       "\n",
       "    .dataframe thead th {\n",
       "        text-align: right;\n",
       "    }\n",
       "</style>\n",
       "<table border=\"1\" class=\"dataframe\">\n",
       "  <thead>\n",
       "    <tr style=\"text-align: right;\">\n",
       "      <th></th>\n",
       "      <th>Id</th>\n",
       "      <th>MSSubClass</th>\n",
       "      <th>MSZoning</th>\n",
       "      <th>LotFrontage</th>\n",
       "      <th>LotArea</th>\n",
       "      <th>Street</th>\n",
       "      <th>Alley</th>\n",
       "      <th>LotShape</th>\n",
       "      <th>LandContour</th>\n",
       "      <th>Utilities</th>\n",
       "      <th>...</th>\n",
       "      <th>ScreenPorch</th>\n",
       "      <th>PoolArea</th>\n",
       "      <th>PoolQC</th>\n",
       "      <th>Fence</th>\n",
       "      <th>MiscFeature</th>\n",
       "      <th>MiscVal</th>\n",
       "      <th>MoSold</th>\n",
       "      <th>YrSold</th>\n",
       "      <th>SaleType</th>\n",
       "      <th>SaleCondition</th>\n",
       "    </tr>\n",
       "  </thead>\n",
       "  <tbody>\n",
       "    <tr>\n",
       "      <th>0</th>\n",
       "      <td>1461</td>\n",
       "      <td>20</td>\n",
       "      <td>RH</td>\n",
       "      <td>80.0</td>\n",
       "      <td>11622</td>\n",
       "      <td>Pave</td>\n",
       "      <td>NaN</td>\n",
       "      <td>Reg</td>\n",
       "      <td>Lvl</td>\n",
       "      <td>AllPub</td>\n",
       "      <td>...</td>\n",
       "      <td>120</td>\n",
       "      <td>0</td>\n",
       "      <td>NaN</td>\n",
       "      <td>MnPrv</td>\n",
       "      <td>NaN</td>\n",
       "      <td>0</td>\n",
       "      <td>6</td>\n",
       "      <td>2010</td>\n",
       "      <td>WD</td>\n",
       "      <td>Normal</td>\n",
       "    </tr>\n",
       "    <tr>\n",
       "      <th>1</th>\n",
       "      <td>1462</td>\n",
       "      <td>20</td>\n",
       "      <td>RL</td>\n",
       "      <td>81.0</td>\n",
       "      <td>14267</td>\n",
       "      <td>Pave</td>\n",
       "      <td>NaN</td>\n",
       "      <td>IR1</td>\n",
       "      <td>Lvl</td>\n",
       "      <td>AllPub</td>\n",
       "      <td>...</td>\n",
       "      <td>0</td>\n",
       "      <td>0</td>\n",
       "      <td>NaN</td>\n",
       "      <td>NaN</td>\n",
       "      <td>Gar2</td>\n",
       "      <td>12500</td>\n",
       "      <td>6</td>\n",
       "      <td>2010</td>\n",
       "      <td>WD</td>\n",
       "      <td>Normal</td>\n",
       "    </tr>\n",
       "    <tr>\n",
       "      <th>2</th>\n",
       "      <td>1463</td>\n",
       "      <td>60</td>\n",
       "      <td>RL</td>\n",
       "      <td>74.0</td>\n",
       "      <td>13830</td>\n",
       "      <td>Pave</td>\n",
       "      <td>NaN</td>\n",
       "      <td>IR1</td>\n",
       "      <td>Lvl</td>\n",
       "      <td>AllPub</td>\n",
       "      <td>...</td>\n",
       "      <td>0</td>\n",
       "      <td>0</td>\n",
       "      <td>NaN</td>\n",
       "      <td>MnPrv</td>\n",
       "      <td>NaN</td>\n",
       "      <td>0</td>\n",
       "      <td>3</td>\n",
       "      <td>2010</td>\n",
       "      <td>WD</td>\n",
       "      <td>Normal</td>\n",
       "    </tr>\n",
       "    <tr>\n",
       "      <th>3</th>\n",
       "      <td>1464</td>\n",
       "      <td>60</td>\n",
       "      <td>RL</td>\n",
       "      <td>78.0</td>\n",
       "      <td>9978</td>\n",
       "      <td>Pave</td>\n",
       "      <td>NaN</td>\n",
       "      <td>IR1</td>\n",
       "      <td>Lvl</td>\n",
       "      <td>AllPub</td>\n",
       "      <td>...</td>\n",
       "      <td>0</td>\n",
       "      <td>0</td>\n",
       "      <td>NaN</td>\n",
       "      <td>NaN</td>\n",
       "      <td>NaN</td>\n",
       "      <td>0</td>\n",
       "      <td>6</td>\n",
       "      <td>2010</td>\n",
       "      <td>WD</td>\n",
       "      <td>Normal</td>\n",
       "    </tr>\n",
       "    <tr>\n",
       "      <th>4</th>\n",
       "      <td>1465</td>\n",
       "      <td>120</td>\n",
       "      <td>RL</td>\n",
       "      <td>43.0</td>\n",
       "      <td>5005</td>\n",
       "      <td>Pave</td>\n",
       "      <td>NaN</td>\n",
       "      <td>IR1</td>\n",
       "      <td>HLS</td>\n",
       "      <td>AllPub</td>\n",
       "      <td>...</td>\n",
       "      <td>144</td>\n",
       "      <td>0</td>\n",
       "      <td>NaN</td>\n",
       "      <td>NaN</td>\n",
       "      <td>NaN</td>\n",
       "      <td>0</td>\n",
       "      <td>1</td>\n",
       "      <td>2010</td>\n",
       "      <td>WD</td>\n",
       "      <td>Normal</td>\n",
       "    </tr>\n",
       "  </tbody>\n",
       "</table>\n",
       "<p>5 rows × 80 columns</p>\n",
       "</div>"
      ],
      "text/plain": [
       "     Id  MSSubClass MSZoning  LotFrontage  LotArea Street Alley LotShape  \\\n",
       "0  1461          20       RH         80.0    11622   Pave   NaN      Reg   \n",
       "1  1462          20       RL         81.0    14267   Pave   NaN      IR1   \n",
       "2  1463          60       RL         74.0    13830   Pave   NaN      IR1   \n",
       "3  1464          60       RL         78.0     9978   Pave   NaN      IR1   \n",
       "4  1465         120       RL         43.0     5005   Pave   NaN      IR1   \n",
       "\n",
       "  LandContour Utilities      ...       ScreenPorch PoolArea PoolQC  Fence  \\\n",
       "0         Lvl    AllPub      ...               120        0    NaN  MnPrv   \n",
       "1         Lvl    AllPub      ...                 0        0    NaN    NaN   \n",
       "2         Lvl    AllPub      ...                 0        0    NaN  MnPrv   \n",
       "3         Lvl    AllPub      ...                 0        0    NaN    NaN   \n",
       "4         HLS    AllPub      ...               144        0    NaN    NaN   \n",
       "\n",
       "  MiscFeature MiscVal MoSold  YrSold  SaleType  SaleCondition  \n",
       "0         NaN       0      6    2010        WD         Normal  \n",
       "1        Gar2   12500      6    2010        WD         Normal  \n",
       "2         NaN       0      3    2010        WD         Normal  \n",
       "3         NaN       0      6    2010        WD         Normal  \n",
       "4         NaN       0      1    2010        WD         Normal  \n",
       "\n",
       "[5 rows x 80 columns]"
      ]
     },
     "execution_count": 18,
     "metadata": {},
     "output_type": "execute_result"
    }
   ],
   "source": [
    "df = pd.read_csv(r\"..\\input\\train.csv\")\n",
    "test_df = pd.read_csv(r\"..\\input\\test.csv\")\n",
    "\n",
    "test_df.head()\n",
    "\n"
   ]
  },
  {
   "cell_type": "code",
   "execution_count": 19,
   "metadata": {},
   "outputs": [
    {
     "data": {
      "text/plain": [
       "Id                  0\n",
       "MSSubClass          0\n",
       "MSZoning            0\n",
       "LotFrontage       259\n",
       "LotArea             0\n",
       "Street              0\n",
       "Alley            1369\n",
       "LotShape            0\n",
       "LandContour         0\n",
       "Utilities           0\n",
       "LotConfig           0\n",
       "LandSlope           0\n",
       "Neighborhood        0\n",
       "Condition1          0\n",
       "Condition2          0\n",
       "BldgType            0\n",
       "HouseStyle          0\n",
       "OverallQual         0\n",
       "OverallCond         0\n",
       "YearBuilt           0\n",
       "YearRemodAdd        0\n",
       "RoofStyle           0\n",
       "RoofMatl            0\n",
       "Exterior1st         0\n",
       "Exterior2nd         0\n",
       "MasVnrType          8\n",
       "MasVnrArea          8\n",
       "ExterQual           0\n",
       "ExterCond           0\n",
       "Foundation          0\n",
       "                 ... \n",
       "BedroomAbvGr        0\n",
       "KitchenAbvGr        0\n",
       "KitchenQual         0\n",
       "TotRmsAbvGrd        0\n",
       "Functional          0\n",
       "Fireplaces          0\n",
       "FireplaceQu       690\n",
       "GarageType         81\n",
       "GarageYrBlt        81\n",
       "GarageFinish       81\n",
       "GarageCars          0\n",
       "GarageArea          0\n",
       "GarageQual         81\n",
       "GarageCond         81\n",
       "PavedDrive          0\n",
       "WoodDeckSF          0\n",
       "OpenPorchSF         0\n",
       "EnclosedPorch       0\n",
       "3SsnPorch           0\n",
       "ScreenPorch         0\n",
       "PoolArea            0\n",
       "PoolQC           1453\n",
       "Fence            1179\n",
       "MiscFeature      1406\n",
       "MiscVal             0\n",
       "MoSold              0\n",
       "YrSold              0\n",
       "SaleType            0\n",
       "SaleCondition       0\n",
       "SalePrice           0\n",
       "Length: 81, dtype: int64"
      ]
     },
     "execution_count": 19,
     "metadata": {},
     "output_type": "execute_result"
    }
   ],
   "source": [
    "df.isna().sum()"
   ]
  },
  {
   "cell_type": "code",
   "execution_count": 34,
   "metadata": {},
   "outputs": [],
   "source": [
    "#Get the dummy variables for all features.\n",
    "# 1 : Numerical : Fill with the mean values\n",
    "# 2:  Categorical : 1) Replace NA with None, as NA has some meaning. \n",
    "#                      Like NA for parking will mean No parking and may effect SaleCost\n",
    "#Rest all delete the rows\n",
    "\n",
    "def clean_data(df):\n",
    "    df['MasVnrType'].fillna(\"NoNe\",inplace=True)\n",
    "    df['MasVnrArea'].fillna(df['MasVnrArea'].mean(),inplace=True)\n",
    "    df['BsmtFinSF2'].fillna(df['BsmtFinSF2'].mean(),inplace=True)\n",
    "    df['BsmtUnfSF'].fillna(df['BsmtUnfSF'].mean(),inplace=True)\n",
    "    df['TotalBsmtSF'].fillna(df['TotalBsmtSF'].mean(),inplace=True)\n",
    "    df['BsmtFullBath'].fillna(df['BsmtFullBath'].mean(),inplace=True)\n",
    "    df['BsmtHalfBath'].fillna(df['BsmtHalfBath'].mean(),inplace=True)\n",
    "    df['LotFrontage'].fillna(df['LotFrontage'].mean(),inplace=True)\n",
    "    df['Alley'].fillna(\"NoNe\",inplace=True)\n",
    "    df['FireplaceQu'].fillna(\"NoNe\",inplace=True)\n",
    "    df['GarageType'].fillna(\"NoNe\",inplace=True)\n",
    "    df['GarageYrBlt'].fillna(\"NoNe\",inplace=True)\n",
    "    df['GarageFinish'].fillna(\"NoNe\",inplace=True)\n",
    "    df['GarageQual'].fillna(\"NoNe\",inplace=True)\n",
    "    df['GarageCond'].fillna(\"NoNe\",inplace=True)\n",
    "    df['PoolQC'].fillna(\"NoNe\",inplace=True)\n",
    "    df['Fence'].fillna(\"NoNe\",inplace=True)\n",
    "    df['MiscFeature'].fillna(\"NoNe\",inplace=True)\n",
    "    df['GarageCars'].fillna(df['GarageCars'].mean(),inplace=True)\n",
    "    df['GarageArea'].fillna(df['GarageArea'].mean(),inplace=True)\n",
    "    #For rest of he variables we will drop the data\n",
    "    df.dropna(axis=0,inplace=True)\n",
    "    return df\n",
    "def clean_data_test(df):\n",
    "    df['MasVnrType'].fillna(\"NoNe\",inplace=True)\n",
    "    df['MasVnrArea'].fillna(df['MasVnrArea'].mean(),inplace=True)\n",
    "    df['BsmtFinSF2'].fillna(df['BsmtFinSF2'].mean(),inplace=True)\n",
    "    df['BsmtUnfSF'].fillna(df['BsmtUnfSF'].mean(),inplace=True)\n",
    "    df['TotalBsmtSF'].fillna(df['TotalBsmtSF'].mean(),inplace=True)\n",
    "    df['BsmtFullBath'].fillna(df['BsmtFullBath'].mean(),inplace=True)\n",
    "    df['BsmtHalfBath'].fillna(df['BsmtHalfBath'].mean(),inplace=True)\n",
    "    df['LotFrontage'].fillna(df['LotFrontage'].mean(),inplace=True)\n",
    "    df['Alley'].fillna(\"NoNe\",inplace=True)\n",
    "    df['FireplaceQu'].fillna(\"NoNe\",inplace=True)\n",
    "    df['GarageType'].fillna(\"NoNe\",inplace=True)\n",
    "    df['GarageYrBlt'].fillna(\"NoNe\",inplace=True)\n",
    "    df['GarageFinish'].fillna(\"NoNe\",inplace=True)\n",
    "    df['GarageQual'].fillna(\"NoNe\",inplace=True)\n",
    "    df['GarageCond'].fillna(\"NoNe\",inplace=True)\n",
    "    df['PoolQC'].fillna(\"NoNe\",inplace=True)\n",
    "    df['Fence'].fillna(\"NoNe\",inplace=True)\n",
    "    df['MiscFeature'].fillna(\"NoNe\",inplace=True)\n",
    "    df['GarageCars'].fillna(df['GarageCars'].mean(),inplace=True)\n",
    "    df['GarageArea'].fillna(df['GarageArea'].mean(),inplace=True)\n",
    "    df['BsmtFinSF1'].fillna(df['BsmtFinSF1'].mean(),inplace=True)\n",
    "    \n",
    "    return df\n",
    "    \n",
    "def get_dummies(df):\n",
    "    df = pd.get_dummies(df)\n",
    "    return df\n"
   ]
  },
  {
   "cell_type": "code",
   "execution_count": 35,
   "metadata": {},
   "outputs": [
    {
     "name": "stdout",
     "output_type": "stream",
     "text": [
      "(1420, 81)\n",
      "(1459, 80)\n"
     ]
    }
   ],
   "source": [
    "df = clean_data(df)\n",
    "test_df = clean_data_test(test_df)\n",
    "print(df.shape)\n",
    "print(test_df.shape)"
   ]
  },
  {
   "cell_type": "code",
   "execution_count": null,
   "metadata": {},
   "outputs": [],
   "source": []
  },
  {
   "cell_type": "code",
   "execution_count": null,
   "metadata": {},
   "outputs": [],
   "source": []
  },
  {
   "cell_type": "code",
   "execution_count": 22,
   "metadata": {},
   "outputs": [
    {
     "data": {
      "text/plain": [
       "(37, 37)"
      ]
     },
     "execution_count": 22,
     "metadata": {},
     "output_type": "execute_result"
    }
   ],
   "source": [
    "train_corr = df.corr()\n",
    "train_corr.shape"
   ]
  },
  {
   "cell_type": "code",
   "execution_count": 25,
   "metadata": {},
   "outputs": [
    {
     "data": {
      "text/plain": [
       "<matplotlib.axes._subplots.AxesSubplot at 0x19c1b29dc18>"
      ]
     },
     "execution_count": 25,
     "metadata": {},
     "output_type": "execute_result"
    },
    {
     "data": {
      "image/png": "[encoded data removed]",
      "text/plain": [
       "<Figure size 2160x2160 with 2 Axes>"
      ]
     },
     "metadata": {
      "needs_background": "light"
     },
     "output_type": "display_data"
    }
   ],
   "source": [
    "plt.figure(figsize=(30,30))\n",
    "sn.heatmap(train_corr)"
   ]
  },
  {
   "cell_type": "code",
   "execution_count": 44,
   "metadata": {},
   "outputs": [
    {
     "name": "stdout",
     "output_type": "stream",
     "text": [
      "(1459, 378)\n",
      "(1420, 393)\n"
     ]
    }
   ],
   "source": [
    "#convert the categorical variable by adding dummies\n",
    "df = get_dummies(df)\n",
    "test_df = get_dummies(test_df)\n",
    "\n",
    "#Test to see if both the test & train data and same columns\n",
    "print(test_df.shape)\n",
    "\n",
    "df['SalePrice'] = np.log(df['SalePrice'])\n",
    "\n",
    "print(df.shape)\n"
   ]
  },
  {
   "cell_type": "code",
   "execution_count": 45,
   "metadata": {},
   "outputs": [],
   "source": [
    "#Since we have now figure out that train has more columns then test, \n",
    "#we can safely assume that no significant feature of the training set will be missing from test set.\n",
    "#Else we need to get the test database updated.\n",
    "\n",
    "#Now find the significant features, for the SalePrice\n",
    "#Will Get the Pearson Correlation with Saleprice with below thresholds\n",
    "\n",
    "\n",
    "pthreshhold = 0.3\n",
    "nthreshhold = -0.3\n",
    "\n",
    "def get_significant_features(df,feature='SalePrice'):\n",
    "    Corr = pd.DataFrame(df.corr()[feature])\n",
    "    Corr = Corr[(Corr >  pthreshhold) | (Corr <  nthreshhold ) ]\n",
    "    #Drop all the not significant values.\n",
    "    Corr = Corr.dropna()\n",
    "    return Corr"
   ]
  },
  {
   "cell_type": "code",
   "execution_count": null,
   "metadata": {},
   "outputs": [],
   "source": []
  },
  {
   "cell_type": "code",
   "execution_count": null,
   "metadata": {},
   "outputs": [],
   "source": []
  },
  {
   "cell_type": "code",
   "execution_count": null,
   "metadata": {},
   "outputs": [],
   "source": []
  },
  {
   "cell_type": "code",
   "execution_count": null,
   "metadata": {},
   "outputs": [],
   "source": []
  },
  {
   "cell_type": "code",
   "execution_count": 46,
   "metadata": {},
   "outputs": [],
   "source": [
    "def get_rmse(true_val,pred_val):\n",
    "    error = true_val-pred_val\n",
    "    rmse = np.sqrt(np.mean(error**2))\n",
    "    return rmse"
   ]
  },
  {
   "cell_type": "code",
   "execution_count": 47,
   "metadata": {},
   "outputs": [],
   "source": [
    "#Now Run the Ridge Regularization\n",
    "from  sklearn.linear_model  import Ridge\n",
    "def reg_alpha(X,Y,alpha,normalize=True):\n",
    "    lreg = Ridge(alpha)\n",
    "    model = lreg.fit(X,Y)\n",
    "    Y_pred = model.predict(X)\n",
    "    return model,Y_pred,lreg"
   ]
  },
  {
   "cell_type": "code",
   "execution_count": 49,
   "metadata": {},
   "outputs": [],
   "source": [
    "#Now lets move the Regression on the significant features\n",
    "#Now lets start the regression model\n",
    "#Extract the rigth set of features from df\n",
    "Y = df['SalePrice']\n",
    "df.drop('SalePrice',axis=1,inplace=True)\n",
    "X = df\n",
    "X = sm.add_constant(X)\n"
   ]
  },
  {
   "cell_type": "code",
   "execution_count": null,
   "metadata": {},
   "outputs": [],
   "source": []
  },
  {
   "cell_type": "code",
   "execution_count": 55,
   "metadata": {},
   "outputs": [
    {
     "data": {
      "text/html": [
       "<div>\n",
       "<style scoped>\n",
       "    .dataframe tbody tr th:only-of-type {\n",
       "        vertical-align: middle;\n",
       "    }\n",
       "\n",
       "    .dataframe tbody tr th {\n",
       "        vertical-align: top;\n",
       "    }\n",
       "\n",
       "    .dataframe thead th {\n",
       "        text-align: right;\n",
       "    }\n",
       "</style>\n",
       "<table border=\"1\" class=\"dataframe\">\n",
       "  <thead>\n",
       "    <tr style=\"text-align: right;\">\n",
       "      <th></th>\n",
       "      <th>alpha</th>\n",
       "      <th>rmse</th>\n",
       "      <th>score</th>\n",
       "    </tr>\n",
       "  </thead>\n",
       "  <tbody>\n",
       "    <tr>\n",
       "      <th>0</th>\n",
       "      <td>100.0000</td>\n",
       "      <td>0.124593</td>\n",
       "      <td>0.899918</td>\n",
       "    </tr>\n",
       "    <tr>\n",
       "      <th>1</th>\n",
       "      <td>10.0000</td>\n",
       "      <td>0.108359</td>\n",
       "      <td>0.924300</td>\n",
       "    </tr>\n",
       "    <tr>\n",
       "      <th>2</th>\n",
       "      <td>1.0000</td>\n",
       "      <td>0.096418</td>\n",
       "      <td>0.940065</td>\n",
       "    </tr>\n",
       "    <tr>\n",
       "      <th>3</th>\n",
       "      <td>0.1000</td>\n",
       "      <td>0.090182</td>\n",
       "      <td>0.947566</td>\n",
       "    </tr>\n",
       "    <tr>\n",
       "      <th>4</th>\n",
       "      <td>0.0100</td>\n",
       "      <td>0.089621</td>\n",
       "      <td>0.948217</td>\n",
       "    </tr>\n",
       "    <tr>\n",
       "      <th>5</th>\n",
       "      <td>0.0010</td>\n",
       "      <td>0.089612</td>\n",
       "      <td>0.948227</td>\n",
       "    </tr>\n",
       "    <tr>\n",
       "      <th>6</th>\n",
       "      <td>0.0001</td>\n",
       "      <td>0.089612</td>\n",
       "      <td>0.948228</td>\n",
       "    </tr>\n",
       "  </tbody>\n",
       "</table>\n",
       "</div>"
      ],
      "text/plain": [
       "      alpha      rmse     score\n",
       "0  100.0000  0.124593  0.899918\n",
       "1   10.0000  0.108359  0.924300\n",
       "2    1.0000  0.096418  0.940065\n",
       "3    0.1000  0.090182  0.947566\n",
       "4    0.0100  0.089621  0.948217\n",
       "5    0.0010  0.089612  0.948227\n",
       "6    0.0001  0.089612  0.948228"
      ]
     },
     "execution_count": 55,
     "metadata": {},
     "output_type": "execute_result"
    }
   ],
   "source": [
    "output = []\n",
    "alpha = [100,10,1,0.1,0.01,0.001,0.0001]\n",
    "count=0\n",
    "for alpha_val in alpha:\n",
    "    X = sm.add_constant(X)\n",
    "    model,Y_pred_alpha,lreg = reg_alpha(X,Y,alpha_val)\n",
    "    rmse = get_rmse(Y,Y_pred_alpha)\n",
    "    score = model.score(X,Y)\n",
    "    output.append((alpha_val,rmse,score))\n",
    "    count+= 1\n",
    "    X.drop('const',axis=1,inplace=True)\n",
    "\n",
    "\n",
    "output_df = pd.DataFrame(output,columns=['alpha','rmse','score'])\n",
    "output_df  \n"
   ]
  },
  {
   "cell_type": "code",
   "execution_count": 56,
   "metadata": {},
   "outputs": [
    {
     "data": {
      "text/plain": [
       "<seaborn.axisgrid.FacetGrid at 0x19c1ba515f8>"
      ]
     },
     "execution_count": 56,
     "metadata": {},
     "output_type": "execute_result"
    },
    {
     "data": {
      "image/png": "[encoded data removed]",
      "text/plain": [
       "<Figure size 360x360 with 1 Axes>"
      ]
     },
     "metadata": {
      "needs_background": "light"
     },
     "output_type": "display_data"
    }
   ],
   "source": [
    "sn.relplot(x='rmse',y='score',kind=\"line\",data=output_df)"
   ]
  },
  {
   "cell_type": "code",
   "execution_count": 57,
   "metadata": {},
   "outputs": [
    {
     "data": {
      "text/plain": [
       "<seaborn.axisgrid.FacetGrid at 0x19c1baa0828>"
      ]
     },
     "execution_count": 57,
     "metadata": {},
     "output_type": "execute_result"
    },
    {
     "data": {
      "image/png": "[encoded data removed]",
      "text/plain": [
       "<Figure size 360x360 with 1 Axes>"
      ]
     },
     "metadata": {
      "needs_background": "light"
     },
     "output_type": "display_data"
    }
   ],
   "source": [
    "sn.relplot(x='alpha',y='score',kind=\"line\",data=output_df)"
   ]
  },
  {
   "cell_type": "code",
   "execution_count": 58,
   "metadata": {},
   "outputs": [
    {
     "data": {
      "text/plain": [
       "<seaborn.axisgrid.FacetGrid at 0x19c1bb27a90>"
      ]
     },
     "execution_count": 58,
     "metadata": {},
     "output_type": "execute_result"
    },
    {
     "data": {
      "image/png": "[encoded data removed]",
      "text/plain": [
       "<Figure size 360x360 with 1 Axes>"
      ]
     },
     "metadata": {
      "needs_background": "light"
     },
     "output_type": "display_data"
    }
   ],
   "source": [
    "sn.relplot(x='alpha',y='rmse',kind=\"line\",data=output_df)"
   ]
  },
  {
   "cell_type": "code",
   "execution_count": null,
   "metadata": {},
   "outputs": [],
   "source": []
  },
  {
   "cell_type": "code",
   "execution_count": 65,
   "metadata": {},
   "outputs": [],
   "source": [
    "#Let's keep alpha as 0.1 as rest of the results are not realistic\n",
    "\n",
    "alpha = 0.01\n",
    "X = sm.add_constant(X)\n",
    "\n",
    "model,Y_pred_alpha_train,lreg = reg_alpha(X,Y,alpha)"
   ]
  },
  {
   "cell_type": "code",
   "execution_count": 72,
   "metadata": {},
   "outputs": [
    {
     "data": {
      "text/plain": [
       "const          0.000000\n",
       "Id            -0.000008\n",
       "MSSubClass    -0.000272\n",
       "LotFrontage    0.000346\n",
       "LotArea        0.000003\n",
       "dtype: float64"
      ]
     },
     "execution_count": 72,
     "metadata": {},
     "output_type": "execute_result"
    }
   ],
   "source": [
    "allFeatures = pd.Series(model.coef_,index = X.columns)\n",
    "allFeatures.head()"
   ]
  },
  {
   "cell_type": "code",
   "execution_count": 73,
   "metadata": {},
   "outputs": [
    {
     "data": {
      "text/plain": [
       "Id            -0.000008\n",
       "MSSubClass    -0.000272\n",
       "LotFrontage    0.000346\n",
       "LotArea        0.000003\n",
       "OverallQual    0.040002\n",
       "dtype: float64"
      ]
     },
     "execution_count": 73,
     "metadata": {},
     "output_type": "execute_result"
    }
   ],
   "source": [
    "impFeatures = allFeatures[allFeatures.iloc[:] != 0]\n",
    "impFeatures.head()"
   ]
  },
  {
   "cell_type": "code",
   "execution_count": 75,
   "metadata": {},
   "outputs": [
    {
     "data": {
      "text/plain": [
       "392"
      ]
     },
     "execution_count": 75,
     "metadata": {},
     "output_type": "execute_result"
    }
   ],
   "source": [
    "impFeatures.sort_values()\n",
    "impFeatures.count()"
   ]
  },
  {
   "cell_type": "code",
   "execution_count": 68,
   "metadata": {},
   "outputs": [
    {
     "data": {
      "text/plain": [
       "LotFrontage              0\n",
       "OverallQual              0\n",
       "YearBuilt                0\n",
       "YearRemodAdd             0\n",
       "MasVnrArea               0\n",
       "BsmtFinSF1               0\n",
       "TotalBsmtSF              0\n",
       "1stFlrSF                 0\n",
       "2ndFlrSF                 0\n",
       "GrLivArea                0\n",
       "FullBath                 0\n",
       "HalfBath                 0\n",
       "TotRmsAbvGrd             0\n",
       "Fireplaces               0\n",
       "GarageCars               0\n",
       "GarageArea               0\n",
       "WoodDeckSF               0\n",
       "OpenPorchSF              0\n",
       "MSZoning_RL              0\n",
       "MSZoning_RM              0\n",
       "Neighborhood_NridgHt     0\n",
       "Exterior1st_VinylSd      0\n",
       "Exterior2nd_VinylSd      0\n",
       "MasVnrType_None          0\n",
       "MasVnrType_Stone         0\n",
       "ExterQual_Ex             0\n",
       "ExterQual_Gd             0\n",
       "ExterQual_TA             0\n",
       "Foundation_CBlock        0\n",
       "Foundation_PConc         0\n",
       "BsmtQual_Ex              0\n",
       "BsmtQual_Gd              0\n",
       "BsmtQual_TA              0\n",
       "BsmtFinType1_GLQ         0\n",
       "HeatingQC_Ex             0\n",
       "HeatingQC_TA             0\n",
       "CentralAir_N             0\n",
       "CentralAir_Y             0\n",
       "KitchenQual_Ex           0\n",
       "KitchenQual_Gd           0\n",
       "KitchenQual_TA           0\n",
       "FireplaceQu_Gd           0\n",
       "FireplaceQu_NoNe         0\n",
       "GarageType_Attchd        0\n",
       "GarageType_Detchd        0\n",
       "GarageType_NoNe          0\n",
       "GarageYrBlt_NoNe         0\n",
       "GarageFinish_Fin         0\n",
       "GarageFinish_NoNe        0\n",
       "GarageFinish_Unf         0\n",
       "GarageQual_NoNe          0\n",
       "GarageQual_TA            0\n",
       "GarageCond_NoNe          0\n",
       "GarageCond_TA            0\n",
       "SaleType_New             0\n",
       "SaleCondition_Partial    0\n",
       "dtype: int64"
      ]
     },
     "execution_count": 68,
     "metadata": {},
     "output_type": "execute_result"
    }
   ],
   "source": [
    "X_test = test_df[]\n",
    "X_test.isna().sum()"
   ]
  },
  {
   "cell_type": "code",
   "execution_count": 72,
   "metadata": {},
   "outputs": [
    {
     "data": {
      "text/plain": [
       "array([11.62331088, 11.91759704, 12.08015351, ..., 12.00837419,\n",
       "       11.61944738, 12.36615517])"
      ]
     },
     "execution_count": 72,
     "metadata": {},
     "output_type": "execute_result"
    }
   ],
   "source": [
    "#Lets get the test data\n",
    "X_test = test_df[train_corr.index]\n",
    "X_test = sm.add_constant(X_test)\n",
    "Y_pred_alpha_test = model.predict(X_test)\n",
    "Y_pred_alpha_test"
   ]
  },
  {
   "cell_type": "code",
   "execution_count": 73,
   "metadata": {},
   "outputs": [],
   "source": [
    "Y_pred_alpha_test = np.exp(Y_pred_alpha_test)"
   ]
  },
  {
   "cell_type": "code",
   "execution_count": 74,
   "metadata": {},
   "outputs": [],
   "source": [
    "Predict = pd.DataFrame({'Id': test_df.Id, 'SalePrice': (Y_pred_alpha_test)})\n",
    "Predict.reset_index(drop=True,inplace=True)\n",
    "Predict.to_csv('submission.csv')\n"
   ]
  },
  {
   "cell_type": "code",
   "execution_count": 75,
   "metadata": {},
   "outputs": [
    {
     "data": {
      "text/html": [
       "<div>\n",
       "<style scoped>\n",
       "    .dataframe tbody tr th:only-of-type {\n",
       "        vertical-align: middle;\n",
       "    }\n",
       "\n",
       "    .dataframe tbody tr th {\n",
       "        vertical-align: top;\n",
       "    }\n",
       "\n",
       "    .dataframe thead th {\n",
       "        text-align: right;\n",
       "    }\n",
       "</style>\n",
       "<table border=\"1\" class=\"dataframe\">\n",
       "  <thead>\n",
       "    <tr style=\"text-align: right;\">\n",
       "      <th></th>\n",
       "      <th>Id</th>\n",
       "      <th>SalePrice</th>\n",
       "    </tr>\n",
       "  </thead>\n",
       "  <tbody>\n",
       "    <tr>\n",
       "      <th>0</th>\n",
       "      <td>1461</td>\n",
       "      <td>111670.838093</td>\n",
       "    </tr>\n",
       "    <tr>\n",
       "      <th>1</th>\n",
       "      <td>1462</td>\n",
       "      <td>149881.017831</td>\n",
       "    </tr>\n",
       "    <tr>\n",
       "      <th>2</th>\n",
       "      <td>1463</td>\n",
       "      <td>176337.227920</td>\n",
       "    </tr>\n",
       "    <tr>\n",
       "      <th>3</th>\n",
       "      <td>1464</td>\n",
       "      <td>198564.764083</td>\n",
       "    </tr>\n",
       "    <tr>\n",
       "      <th>4</th>\n",
       "      <td>1465</td>\n",
       "      <td>196142.348792</td>\n",
       "    </tr>\n",
       "    <tr>\n",
       "      <th>5</th>\n",
       "      <td>1466</td>\n",
       "      <td>175610.781901</td>\n",
       "    </tr>\n",
       "    <tr>\n",
       "      <th>6</th>\n",
       "      <td>1467</td>\n",
       "      <td>179426.614523</td>\n",
       "    </tr>\n",
       "    <tr>\n",
       "      <th>7</th>\n",
       "      <td>1468</td>\n",
       "      <td>171770.220877</td>\n",
       "    </tr>\n",
       "    <tr>\n",
       "      <th>8</th>\n",
       "      <td>1469</td>\n",
       "      <td>190982.400478</td>\n",
       "    </tr>\n",
       "    <tr>\n",
       "      <th>9</th>\n",
       "      <td>1470</td>\n",
       "      <td>120185.762665</td>\n",
       "    </tr>\n",
       "    <tr>\n",
       "      <th>10</th>\n",
       "      <td>1471</td>\n",
       "      <td>204355.978229</td>\n",
       "    </tr>\n",
       "    <tr>\n",
       "      <th>11</th>\n",
       "      <td>1472</td>\n",
       "      <td>111888.434892</td>\n",
       "    </tr>\n",
       "    <tr>\n",
       "      <th>12</th>\n",
       "      <td>1473</td>\n",
       "      <td>104698.565889</td>\n",
       "    </tr>\n",
       "    <tr>\n",
       "      <th>13</th>\n",
       "      <td>1474</td>\n",
       "      <td>167923.971252</td>\n",
       "    </tr>\n",
       "    <tr>\n",
       "      <th>14</th>\n",
       "      <td>1475</td>\n",
       "      <td>136973.907276</td>\n",
       "    </tr>\n",
       "    <tr>\n",
       "      <th>15</th>\n",
       "      <td>1476</td>\n",
       "      <td>361657.419049</td>\n",
       "    </tr>\n",
       "    <tr>\n",
       "      <th>16</th>\n",
       "      <td>1477</td>\n",
       "      <td>242605.269942</td>\n",
       "    </tr>\n",
       "    <tr>\n",
       "      <th>17</th>\n",
       "      <td>1478</td>\n",
       "      <td>327675.365778</td>\n",
       "    </tr>\n",
       "    <tr>\n",
       "      <th>18</th>\n",
       "      <td>1479</td>\n",
       "      <td>303234.826661</td>\n",
       "    </tr>\n",
       "    <tr>\n",
       "      <th>19</th>\n",
       "      <td>1480</td>\n",
       "      <td>478367.516390</td>\n",
       "    </tr>\n",
       "    <tr>\n",
       "      <th>20</th>\n",
       "      <td>1481</td>\n",
       "      <td>303889.170430</td>\n",
       "    </tr>\n",
       "    <tr>\n",
       "      <th>21</th>\n",
       "      <td>1482</td>\n",
       "      <td>229188.928902</td>\n",
       "    </tr>\n",
       "    <tr>\n",
       "      <th>22</th>\n",
       "      <td>1483</td>\n",
       "      <td>172088.030540</td>\n",
       "    </tr>\n",
       "    <tr>\n",
       "      <th>23</th>\n",
       "      <td>1484</td>\n",
       "      <td>184455.801764</td>\n",
       "    </tr>\n",
       "    <tr>\n",
       "      <th>24</th>\n",
       "      <td>1485</td>\n",
       "      <td>199841.063581</td>\n",
       "    </tr>\n",
       "    <tr>\n",
       "      <th>25</th>\n",
       "      <td>1486</td>\n",
       "      <td>203948.308942</td>\n",
       "    </tr>\n",
       "    <tr>\n",
       "      <th>26</th>\n",
       "      <td>1487</td>\n",
       "      <td>289640.980349</td>\n",
       "    </tr>\n",
       "    <tr>\n",
       "      <th>27</th>\n",
       "      <td>1488</td>\n",
       "      <td>241493.463105</td>\n",
       "    </tr>\n",
       "    <tr>\n",
       "      <th>28</th>\n",
       "      <td>1489</td>\n",
       "      <td>177723.909447</td>\n",
       "    </tr>\n",
       "    <tr>\n",
       "      <th>29</th>\n",
       "      <td>1490</td>\n",
       "      <td>210939.936006</td>\n",
       "    </tr>\n",
       "    <tr>\n",
       "      <th>...</th>\n",
       "      <td>...</td>\n",
       "      <td>...</td>\n",
       "    </tr>\n",
       "    <tr>\n",
       "      <th>1429</th>\n",
       "      <td>2890</td>\n",
       "      <td>84172.347829</td>\n",
       "    </tr>\n",
       "    <tr>\n",
       "      <th>1430</th>\n",
       "      <td>2891</td>\n",
       "      <td>125457.234815</td>\n",
       "    </tr>\n",
       "    <tr>\n",
       "      <th>1431</th>\n",
       "      <td>2892</td>\n",
       "      <td>61844.292094</td>\n",
       "    </tr>\n",
       "    <tr>\n",
       "      <th>1432</th>\n",
       "      <td>2893</td>\n",
       "      <td>87469.793246</td>\n",
       "    </tr>\n",
       "    <tr>\n",
       "      <th>1433</th>\n",
       "      <td>2894</td>\n",
       "      <td>67375.940255</td>\n",
       "    </tr>\n",
       "    <tr>\n",
       "      <th>1434</th>\n",
       "      <td>2895</td>\n",
       "      <td>267464.853816</td>\n",
       "    </tr>\n",
       "    <tr>\n",
       "      <th>1435</th>\n",
       "      <td>2896</td>\n",
       "      <td>235184.984524</td>\n",
       "    </tr>\n",
       "    <tr>\n",
       "      <th>1436</th>\n",
       "      <td>2897</td>\n",
       "      <td>188616.431381</td>\n",
       "    </tr>\n",
       "    <tr>\n",
       "      <th>1437</th>\n",
       "      <td>2898</td>\n",
       "      <td>160196.662239</td>\n",
       "    </tr>\n",
       "    <tr>\n",
       "      <th>1438</th>\n",
       "      <td>2899</td>\n",
       "      <td>222632.555995</td>\n",
       "    </tr>\n",
       "    <tr>\n",
       "      <th>1439</th>\n",
       "      <td>2900</td>\n",
       "      <td>149911.928666</td>\n",
       "    </tr>\n",
       "    <tr>\n",
       "      <th>1440</th>\n",
       "      <td>2901</td>\n",
       "      <td>179482.482878</td>\n",
       "    </tr>\n",
       "    <tr>\n",
       "      <th>1441</th>\n",
       "      <td>2902</td>\n",
       "      <td>181643.264669</td>\n",
       "    </tr>\n",
       "    <tr>\n",
       "      <th>1442</th>\n",
       "      <td>2903</td>\n",
       "      <td>333882.379646</td>\n",
       "    </tr>\n",
       "    <tr>\n",
       "      <th>1443</th>\n",
       "      <td>2904</td>\n",
       "      <td>344973.127087</td>\n",
       "    </tr>\n",
       "    <tr>\n",
       "      <th>1444</th>\n",
       "      <td>2905</td>\n",
       "      <td>89803.998787</td>\n",
       "    </tr>\n",
       "    <tr>\n",
       "      <th>1445</th>\n",
       "      <td>2906</td>\n",
       "      <td>197179.617166</td>\n",
       "    </tr>\n",
       "    <tr>\n",
       "      <th>1446</th>\n",
       "      <td>2907</td>\n",
       "      <td>113419.478509</td>\n",
       "    </tr>\n",
       "    <tr>\n",
       "      <th>1447</th>\n",
       "      <td>2908</td>\n",
       "      <td>128439.485202</td>\n",
       "    </tr>\n",
       "    <tr>\n",
       "      <th>1448</th>\n",
       "      <td>2909</td>\n",
       "      <td>154748.181776</td>\n",
       "    </tr>\n",
       "    <tr>\n",
       "      <th>1449</th>\n",
       "      <td>2910</td>\n",
       "      <td>81360.784486</td>\n",
       "    </tr>\n",
       "    <tr>\n",
       "      <th>1450</th>\n",
       "      <td>2911</td>\n",
       "      <td>93670.914552</td>\n",
       "    </tr>\n",
       "    <tr>\n",
       "      <th>1451</th>\n",
       "      <td>2912</td>\n",
       "      <td>140103.193430</td>\n",
       "    </tr>\n",
       "    <tr>\n",
       "      <th>1452</th>\n",
       "      <td>2913</td>\n",
       "      <td>94196.911218</td>\n",
       "    </tr>\n",
       "    <tr>\n",
       "      <th>1453</th>\n",
       "      <td>2914</td>\n",
       "      <td>83487.619437</td>\n",
       "    </tr>\n",
       "    <tr>\n",
       "      <th>1454</th>\n",
       "      <td>2915</td>\n",
       "      <td>84183.975997</td>\n",
       "    </tr>\n",
       "    <tr>\n",
       "      <th>1455</th>\n",
       "      <td>2916</td>\n",
       "      <td>94709.217321</td>\n",
       "    </tr>\n",
       "    <tr>\n",
       "      <th>1456</th>\n",
       "      <td>2917</td>\n",
       "      <td>164123.453764</td>\n",
       "    </tr>\n",
       "    <tr>\n",
       "      <th>1457</th>\n",
       "      <td>2918</td>\n",
       "      <td>111240.230934</td>\n",
       "    </tr>\n",
       "    <tr>\n",
       "      <th>1458</th>\n",
       "      <td>2919</td>\n",
       "      <td>234721.544058</td>\n",
       "    </tr>\n",
       "  </tbody>\n",
       "</table>\n",
       "<p>1459 rows × 2 columns</p>\n",
       "</div>"
      ],
      "text/plain": [
       "        Id      SalePrice\n",
       "0     1461  111670.838093\n",
       "1     1462  149881.017831\n",
       "2     1463  176337.227920\n",
       "3     1464  198564.764083\n",
       "4     1465  196142.348792\n",
       "5     1466  175610.781901\n",
       "6     1467  179426.614523\n",
       "7     1468  171770.220877\n",
       "8     1469  190982.400478\n",
       "9     1470  120185.762665\n",
       "10    1471  204355.978229\n",
       "11    1472  111888.434892\n",
       "12    1473  104698.565889\n",
       "13    1474  167923.971252\n",
       "14    1475  136973.907276\n",
       "15    1476  361657.419049\n",
       "16    1477  242605.269942\n",
       "17    1478  327675.365778\n",
       "18    1479  303234.826661\n",
       "19    1480  478367.516390\n",
       "20    1481  303889.170430\n",
       "21    1482  229188.928902\n",
       "22    1483  172088.030540\n",
       "23    1484  184455.801764\n",
       "24    1485  199841.063581\n",
       "25    1486  203948.308942\n",
       "26    1487  289640.980349\n",
       "27    1488  241493.463105\n",
       "28    1489  177723.909447\n",
       "29    1490  210939.936006\n",
       "...    ...            ...\n",
       "1429  2890   84172.347829\n",
       "1430  2891  125457.234815\n",
       "1431  2892   61844.292094\n",
       "1432  2893   87469.793246\n",
       "1433  2894   67375.940255\n",
       "1434  2895  267464.853816\n",
       "1435  2896  235184.984524\n",
       "1436  2897  188616.431381\n",
       "1437  2898  160196.662239\n",
       "1438  2899  222632.555995\n",
       "1439  2900  149911.928666\n",
       "1440  2901  179482.482878\n",
       "1441  2902  181643.264669\n",
       "1442  2903  333882.379646\n",
       "1443  2904  344973.127087\n",
       "1444  2905   89803.998787\n",
       "1445  2906  197179.617166\n",
       "1446  2907  113419.478509\n",
       "1447  2908  128439.485202\n",
       "1448  2909  154748.181776\n",
       "1449  2910   81360.784486\n",
       "1450  2911   93670.914552\n",
       "1451  2912  140103.193430\n",
       "1452  2913   94196.911218\n",
       "1453  2914   83487.619437\n",
       "1454  2915   84183.975997\n",
       "1455  2916   94709.217321\n",
       "1456  2917  164123.453764\n",
       "1457  2918  111240.230934\n",
       "1458  2919  234721.544058\n",
       "\n",
       "[1459 rows x 2 columns]"
      ]
     },
     "execution_count": 75,
     "metadata": {},
     "output_type": "execute_result"
    }
   ],
   "source": [
    "Predict"
   ]
  },
  {
   "cell_type": "code",
   "execution_count": null,
   "metadata": {},
   "outputs": [],
   "source": []
  }
 ],
 "metadata": {
  "kernelspec": {
   "display_name": "Python 3",
   "language": "python",
   "name": "python3"
  },
  "language_info": {
   "codemirror_mode": {
    "name": "ipython",
    "version": 3
   },
   "file_extension": ".py",
   "mimetype": "text/x-python",
   "name": "python",
   "nbconvert_exporter": "python",
   "pygments_lexer": "ipython3",
   "version": "3.7.0"
  }
 },
 "nbformat": 4,
 "nbformat_minor": 2
}
