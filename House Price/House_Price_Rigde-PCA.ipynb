{
 "cells": [
  {
   "cell_type": "code",
   "execution_count": 1,
   "metadata": {},
   "outputs": [
    {
     "name": "stderr",
     "output_type": "stream",
     "text": [
      "C:\\ProgramData\\Anaconda3\\lib\\site-packages\\ipykernel\\parentpoller.py:116: UserWarning: Parent poll failed.  If the frontend dies,\n",
      "                the kernel may be left running.  Please let us know\n",
      "                about your system (bitness, Python, etc.) at\n",
      "                ipython-dev@scipy.org\n",
      "  ipython-dev@scipy.org\"\"\")\n"
     ]
    }
   ],
   "source": [
    "import numpy as np\n",
    "import pandas as pd\n",
    "import seaborn as sn\n",
    "import statsmodels.api as sm\n",
    "import matplotlib.pyplot as plt\n",
    "from sklearn.linear_model import Ridge"
   ]
  },
  {
   "cell_type": "code",
   "execution_count": 2,
   "metadata": {},
   "outputs": [
    {
     "data": {
      "text/html": [
       "<div>\n",
       "<style scoped>\n",
       "    .dataframe tbody tr th:only-of-type {\n",
       "        vertical-align: middle;\n",
       "    }\n",
       "\n",
       "    .dataframe tbody tr th {\n",
       "        vertical-align: top;\n",
       "    }\n",
       "\n",
       "    .dataframe thead th {\n",
       "        text-align: right;\n",
       "    }\n",
       "</style>\n",
       "<table border=\"1\" class=\"dataframe\">\n",
       "  <thead>\n",
       "    <tr style=\"text-align: right;\">\n",
       "      <th></th>\n",
       "      <th>Id</th>\n",
       "      <th>MSSubClass</th>\n",
       "      <th>MSZoning</th>\n",
       "      <th>LotFrontage</th>\n",
       "      <th>LotArea</th>\n",
       "      <th>Street</th>\n",
       "      <th>Alley</th>\n",
       "      <th>LotShape</th>\n",
       "      <th>LandContour</th>\n",
       "      <th>Utilities</th>\n",
       "      <th>...</th>\n",
       "      <th>ScreenPorch</th>\n",
       "      <th>PoolArea</th>\n",
       "      <th>PoolQC</th>\n",
       "      <th>Fence</th>\n",
       "      <th>MiscFeature</th>\n",
       "      <th>MiscVal</th>\n",
       "      <th>MoSold</th>\n",
       "      <th>YrSold</th>\n",
       "      <th>SaleType</th>\n",
       "      <th>SaleCondition</th>\n",
       "    </tr>\n",
       "  </thead>\n",
       "  <tbody>\n",
       "    <tr>\n",
       "      <th>0</th>\n",
       "      <td>1461</td>\n",
       "      <td>20</td>\n",
       "      <td>RH</td>\n",
       "      <td>80.0</td>\n",
       "      <td>11622</td>\n",
       "      <td>Pave</td>\n",
       "      <td>NaN</td>\n",
       "      <td>Reg</td>\n",
       "      <td>Lvl</td>\n",
       "      <td>AllPub</td>\n",
       "      <td>...</td>\n",
       "      <td>120</td>\n",
       "      <td>0</td>\n",
       "      <td>NaN</td>\n",
       "      <td>MnPrv</td>\n",
       "      <td>NaN</td>\n",
       "      <td>0</td>\n",
       "      <td>6</td>\n",
       "      <td>2010</td>\n",
       "      <td>WD</td>\n",
       "      <td>Normal</td>\n",
       "    </tr>\n",
       "    <tr>\n",
       "      <th>1</th>\n",
       "      <td>1462</td>\n",
       "      <td>20</td>\n",
       "      <td>RL</td>\n",
       "      <td>81.0</td>\n",
       "      <td>14267</td>\n",
       "      <td>Pave</td>\n",
       "      <td>NaN</td>\n",
       "      <td>IR1</td>\n",
       "      <td>Lvl</td>\n",
       "      <td>AllPub</td>\n",
       "      <td>...</td>\n",
       "      <td>0</td>\n",
       "      <td>0</td>\n",
       "      <td>NaN</td>\n",
       "      <td>NaN</td>\n",
       "      <td>Gar2</td>\n",
       "      <td>12500</td>\n",
       "      <td>6</td>\n",
       "      <td>2010</td>\n",
       "      <td>WD</td>\n",
       "      <td>Normal</td>\n",
       "    </tr>\n",
       "    <tr>\n",
       "      <th>2</th>\n",
       "      <td>1463</td>\n",
       "      <td>60</td>\n",
       "      <td>RL</td>\n",
       "      <td>74.0</td>\n",
       "      <td>13830</td>\n",
       "      <td>Pave</td>\n",
       "      <td>NaN</td>\n",
       "      <td>IR1</td>\n",
       "      <td>Lvl</td>\n",
       "      <td>AllPub</td>\n",
       "      <td>...</td>\n",
       "      <td>0</td>\n",
       "      <td>0</td>\n",
       "      <td>NaN</td>\n",
       "      <td>MnPrv</td>\n",
       "      <td>NaN</td>\n",
       "      <td>0</td>\n",
       "      <td>3</td>\n",
       "      <td>2010</td>\n",
       "      <td>WD</td>\n",
       "      <td>Normal</td>\n",
       "    </tr>\n",
       "    <tr>\n",
       "      <th>3</th>\n",
       "      <td>1464</td>\n",
       "      <td>60</td>\n",
       "      <td>RL</td>\n",
       "      <td>78.0</td>\n",
       "      <td>9978</td>\n",
       "      <td>Pave</td>\n",
       "      <td>NaN</td>\n",
       "      <td>IR1</td>\n",
       "      <td>Lvl</td>\n",
       "      <td>AllPub</td>\n",
       "      <td>...</td>\n",
       "      <td>0</td>\n",
       "      <td>0</td>\n",
       "      <td>NaN</td>\n",
       "      <td>NaN</td>\n",
       "      <td>NaN</td>\n",
       "      <td>0</td>\n",
       "      <td>6</td>\n",
       "      <td>2010</td>\n",
       "      <td>WD</td>\n",
       "      <td>Normal</td>\n",
       "    </tr>\n",
       "    <tr>\n",
       "      <th>4</th>\n",
       "      <td>1465</td>\n",
       "      <td>120</td>\n",
       "      <td>RL</td>\n",
       "      <td>43.0</td>\n",
       "      <td>5005</td>\n",
       "      <td>Pave</td>\n",
       "      <td>NaN</td>\n",
       "      <td>IR1</td>\n",
       "      <td>HLS</td>\n",
       "      <td>AllPub</td>\n",
       "      <td>...</td>\n",
       "      <td>144</td>\n",
       "      <td>0</td>\n",
       "      <td>NaN</td>\n",
       "      <td>NaN</td>\n",
       "      <td>NaN</td>\n",
       "      <td>0</td>\n",
       "      <td>1</td>\n",
       "      <td>2010</td>\n",
       "      <td>WD</td>\n",
       "      <td>Normal</td>\n",
       "    </tr>\n",
       "  </tbody>\n",
       "</table>\n",
       "<p>5 rows × 80 columns</p>\n",
       "</div>"
      ],
      "text/plain": [
       "     Id  MSSubClass MSZoning  LotFrontage  LotArea Street Alley LotShape  \\\n",
       "0  1461          20       RH         80.0    11622   Pave   NaN      Reg   \n",
       "1  1462          20       RL         81.0    14267   Pave   NaN      IR1   \n",
       "2  1463          60       RL         74.0    13830   Pave   NaN      IR1   \n",
       "3  1464          60       RL         78.0     9978   Pave   NaN      IR1   \n",
       "4  1465         120       RL         43.0     5005   Pave   NaN      IR1   \n",
       "\n",
       "  LandContour Utilities      ...       ScreenPorch PoolArea PoolQC  Fence  \\\n",
       "0         Lvl    AllPub      ...               120        0    NaN  MnPrv   \n",
       "1         Lvl    AllPub      ...                 0        0    NaN    NaN   \n",
       "2         Lvl    AllPub      ...                 0        0    NaN  MnPrv   \n",
       "3         Lvl    AllPub      ...                 0        0    NaN    NaN   \n",
       "4         HLS    AllPub      ...               144        0    NaN    NaN   \n",
       "\n",
       "  MiscFeature MiscVal MoSold  YrSold  SaleType  SaleCondition  \n",
       "0         NaN       0      6    2010        WD         Normal  \n",
       "1        Gar2   12500      6    2010        WD         Normal  \n",
       "2         NaN       0      3    2010        WD         Normal  \n",
       "3         NaN       0      6    2010        WD         Normal  \n",
       "4         NaN       0      1    2010        WD         Normal  \n",
       "\n",
       "[5 rows x 80 columns]"
      ]
     },
     "execution_count": 2,
     "metadata": {},
     "output_type": "execute_result"
    }
   ],
   "source": [
    "df = pd.read_csv(r\"..\\input\\train.csv\")\n",
    "test_df = pd.read_csv(r\"..\\input\\test.csv\")\n",
    "\n",
    "test_df.head()\n",
    "\n"
   ]
  },
  {
   "cell_type": "code",
   "execution_count": null,
   "metadata": {},
   "outputs": [],
   "source": []
  },
  {
   "cell_type": "code",
   "execution_count": 3,
   "metadata": {},
   "outputs": [],
   "source": [
    "#Get the dummy variables for all features.\n",
    "# 1 : Numerical : Fill with the mean values\n",
    "# 2:  Categorical : 1) Replace NA with None, as NA has some meaning. \n",
    "#                      Like NA for parking will mean No parking and may effect SaleCost\n",
    "#Rest all delete the rows\n",
    "\n",
    "def clean_data(df):\n",
    "    df['MasVnrType'].fillna(\"NoNe\",inplace=True)\n",
    "    df['MasVnrArea'].fillna(df['MasVnrArea'].mean(),inplace=True)\n",
    "    df['BsmtFinSF2'].fillna(df['BsmtFinSF2'].mean(),inplace=True)\n",
    "    df['BsmtUnfSF'].fillna(df['BsmtUnfSF'].mean(),inplace=True)\n",
    "    df['TotalBsmtSF'].fillna(df['TotalBsmtSF'].mean(),inplace=True)\n",
    "    df['BsmtFullBath'].fillna(df['BsmtFullBath'].mean(),inplace=True)\n",
    "    df['BsmtHalfBath'].fillna(df['BsmtHalfBath'].mean(),inplace=True)\n",
    "    df['LotFrontage'].fillna(df['LotFrontage'].mean(),inplace=True)\n",
    "    df['Alley'].fillna(\"NoNe\",inplace=True)\n",
    "    df['FireplaceQu'].fillna(\"NoNe\",inplace=True)\n",
    "    df['GarageType'].fillna(\"NoNe\",inplace=True)\n",
    "    df['GarageYrBlt'].fillna(\"NoNe\",inplace=True)\n",
    "    df['GarageFinish'].fillna(\"NoNe\",inplace=True)\n",
    "    df['GarageQual'].fillna(\"NoNe\",inplace=True)\n",
    "    df['GarageCond'].fillna(\"NoNe\",inplace=True)\n",
    "    df['PoolQC'].fillna(\"NoNe\",inplace=True)\n",
    "    df['Fence'].fillna(\"NoNe\",inplace=True)\n",
    "    df['MiscFeature'].fillna(\"NoNe\",inplace=True)\n",
    "    df['GarageCars'].fillna(df['GarageCars'].mean(),inplace=True)\n",
    "    df['GarageArea'].fillna(df['GarageArea'].mean(),inplace=True)\n",
    "    #For rest of he variables we will drop the data\n",
    "    #df.dropna(axis=0,inplace=True)\n",
    "    return df\n",
    "def clean_data_test(df):\n",
    "    df['MasVnrType'].fillna(\"NoNe\",inplace=True)\n",
    "    df['MasVnrArea'].fillna(df['MasVnrArea'].mean(),inplace=True)\n",
    "    df['BsmtFinSF2'].fillna(df['BsmtFinSF2'].mean(),inplace=True)\n",
    "    df['BsmtUnfSF'].fillna(df['BsmtUnfSF'].mean(),inplace=True)\n",
    "    df['TotalBsmtSF'].fillna(df['TotalBsmtSF'].mean(),inplace=True)\n",
    "    df['BsmtFullBath'].fillna(df['BsmtFullBath'].mean(),inplace=True)\n",
    "    df['BsmtHalfBath'].fillna(df['BsmtHalfBath'].mean(),inplace=True)\n",
    "    df['LotFrontage'].fillna(df['LotFrontage'].mean(),inplace=True)\n",
    "    df['Alley'].fillna(\"NoNe\",inplace=True)\n",
    "    df['FireplaceQu'].fillna(\"NoNe\",inplace=True)\n",
    "    df['GarageType'].fillna(\"NoNe\",inplace=True)\n",
    "    df['GarageYrBlt'].fillna(\"NoNe\",inplace=True)\n",
    "    df['GarageFinish'].fillna(\"NoNe\",inplace=True)\n",
    "    df['GarageQual'].fillna(\"NoNe\",inplace=True)\n",
    "    df['GarageCond'].fillna(\"NoNe\",inplace=True)\n",
    "    df['PoolQC'].fillna(\"NoNe\",inplace=True)\n",
    "    df['Fence'].fillna(\"NoNe\",inplace=True)\n",
    "    df['MiscFeature'].fillna(\"NoNe\",inplace=True)\n",
    "    df['GarageCars'].fillna(df['GarageCars'].mean(),inplace=True)\n",
    "    df['GarageArea'].fillna(df['GarageArea'].mean(),inplace=True)\n",
    "    df['BsmtFinSF1'].fillna(df['BsmtFinSF1'].mean(),inplace=True)\n",
    "    \n",
    "    return df\n",
    "    \n",
    "def get_dummies(df):\n",
    "    df = pd.get_dummies(df)\n",
    "    return df"
   ]
  },
  {
   "cell_type": "code",
   "execution_count": 4,
   "metadata": {},
   "outputs": [
    {
     "name": "stdout",
     "output_type": "stream",
     "text": [
      "(1460, 81)\n",
      "(1459, 80)\n"
     ]
    }
   ],
   "source": [
    "df = clean_data(df)\n",
    "test_df = clean_data_test(test_df)\n",
    "print(df.shape)\n",
    "print(test_df.shape)"
   ]
  },
  {
   "cell_type": "code",
   "execution_count": null,
   "metadata": {},
   "outputs": [],
   "source": []
  },
  {
   "cell_type": "code",
   "execution_count": 5,
   "metadata": {},
   "outputs": [
    {
     "name": "stdout",
     "output_type": "stream",
     "text": [
      "(1459, 378)\n",
      "(1460, 396)\n"
     ]
    }
   ],
   "source": [
    "#convert the categorical variable by adding dummies\n",
    "df = get_dummies(df)\n",
    "test_df = get_dummies(test_df)\n",
    "\n",
    "#Test to see if both the test & train data and same columns\n",
    "print(test_df.shape)\n",
    "\n",
    "df['SalePrice'] = np.log(df['SalePrice'])\n",
    "\n",
    "Y_train = df['SalePrice']\n",
    "df.drop('SalePrice',axis=1,inplace=True)\n",
    "\n",
    "print(df.shape)\n"
   ]
  },
  {
   "cell_type": "code",
   "execution_count": 6,
   "metadata": {},
   "outputs": [],
   "source": [
    "from sklearn.preprocessing import MinMaxScaler\n",
    "from sklearn.decomposition import PCA\n",
    "def doMinMaxScaling(df):\n",
    "    scalar = MinMaxScaler(feature_range = [0,1])\n",
    "    data = scalar.fit_transform(df)\n",
    "    return data\n",
    "\n",
    "def doPCA(df,ncomponents=0):\n",
    "    if ncomponents:\n",
    "        pca = PCA(n_components=ncomponents)\n",
    "        pcaData = pca.fit_transform(df)\n",
    "        return pca,pcaData\n",
    "    else:\n",
    "        pca = PCA().fit(df)\n",
    "        return pca\n",
    "    \n",
    "def getDataFromDf(df):\n",
    "    return df.iloc[:,:]"
   ]
  },
  {
   "cell_type": "code",
   "execution_count": 7,
   "metadata": {},
   "outputs": [],
   "source": [
    "train_data = getDataFromDf(df)\n"
   ]
  },
  {
   "cell_type": "code",
   "execution_count": 8,
   "metadata": {},
   "outputs": [],
   "source": [
    "preProcData = doMinMaxScaling(train_data)\n"
   ]
  },
  {
   "cell_type": "code",
   "execution_count": 9,
   "metadata": {},
   "outputs": [],
   "source": [
    "pca = doPCA(preProcData)"
   ]
  },
  {
   "cell_type": "code",
   "execution_count": 10,
   "metadata": {},
   "outputs": [
    {
     "data": {
      "image/png": "[encoded data removed]",
      "text/plain": [
       "<Figure size 432x288 with 1 Axes>"
      ]
     },
     "metadata": {
      "needs_background": "light"
     },
     "output_type": "display_data"
    }
   ],
   "source": [
    "plt.plot(np.cumsum(pca.explained_variance_ratio_))\n",
    "plt.xlabel(\"Components\")\n",
    "plt.ylabel('Variance')\n",
    "plt.show()\n"
   ]
  },
  {
   "cell_type": "code",
   "execution_count": 11,
   "metadata": {},
   "outputs": [],
   "source": [
    "#Looks like 170 is the number we can take for the number of components\n"
   ]
  },
  {
   "cell_type": "code",
   "execution_count": 12,
   "metadata": {},
   "outputs": [],
   "source": [
    "pca,trainPcaData = doPCA(preProcData,ncomponents=170)\n",
    "params = pca.get_params()\n"
   ]
  },
  {
   "cell_type": "code",
   "execution_count": 13,
   "metadata": {},
   "outputs": [
    {
     "data": {
      "text/html": [
       "<div>\n",
       "<style scoped>\n",
       "    .dataframe tbody tr th:only-of-type {\n",
       "        vertical-align: middle;\n",
       "    }\n",
       "\n",
       "    .dataframe tbody tr th {\n",
       "        vertical-align: top;\n",
       "    }\n",
       "\n",
       "    .dataframe thead th {\n",
       "        text-align: right;\n",
       "    }\n",
       "</style>\n",
       "<table border=\"1\" class=\"dataframe\">\n",
       "  <thead>\n",
       "    <tr style=\"text-align: right;\">\n",
       "      <th></th>\n",
       "      <th>0</th>\n",
       "      <th>1</th>\n",
       "      <th>2</th>\n",
       "      <th>3</th>\n",
       "      <th>4</th>\n",
       "      <th>5</th>\n",
       "      <th>6</th>\n",
       "      <th>7</th>\n",
       "      <th>8</th>\n",
       "      <th>9</th>\n",
       "      <th>...</th>\n",
       "      <th>160</th>\n",
       "      <th>161</th>\n",
       "      <th>162</th>\n",
       "      <th>163</th>\n",
       "      <th>164</th>\n",
       "      <th>165</th>\n",
       "      <th>166</th>\n",
       "      <th>167</th>\n",
       "      <th>168</th>\n",
       "      <th>169</th>\n",
       "    </tr>\n",
       "  </thead>\n",
       "  <tbody>\n",
       "    <tr>\n",
       "      <th>0</th>\n",
       "      <td>2.105940</td>\n",
       "      <td>0.475911</td>\n",
       "      <td>-0.511311</td>\n",
       "      <td>-1.345076</td>\n",
       "      <td>-0.547346</td>\n",
       "      <td>-0.134278</td>\n",
       "      <td>-0.631703</td>\n",
       "      <td>-0.369111</td>\n",
       "      <td>0.418643</td>\n",
       "      <td>-0.448304</td>\n",
       "      <td>...</td>\n",
       "      <td>0.014626</td>\n",
       "      <td>0.014364</td>\n",
       "      <td>-0.001778</td>\n",
       "      <td>-0.007508</td>\n",
       "      <td>0.018752</td>\n",
       "      <td>0.041500</td>\n",
       "      <td>0.031813</td>\n",
       "      <td>0.008972</td>\n",
       "      <td>0.008295</td>\n",
       "      <td>-0.023860</td>\n",
       "    </tr>\n",
       "    <tr>\n",
       "      <th>1</th>\n",
       "      <td>-0.292918</td>\n",
       "      <td>-0.945770</td>\n",
       "      <td>-0.117115</td>\n",
       "      <td>-0.420407</td>\n",
       "      <td>0.275591</td>\n",
       "      <td>-0.121424</td>\n",
       "      <td>0.350893</td>\n",
       "      <td>-0.393735</td>\n",
       "      <td>-0.470385</td>\n",
       "      <td>0.405297</td>\n",
       "      <td>...</td>\n",
       "      <td>-0.102298</td>\n",
       "      <td>0.000157</td>\n",
       "      <td>0.040102</td>\n",
       "      <td>0.001255</td>\n",
       "      <td>0.089769</td>\n",
       "      <td>0.064201</td>\n",
       "      <td>-0.123524</td>\n",
       "      <td>0.040402</td>\n",
       "      <td>0.044882</td>\n",
       "      <td>-0.034373</td>\n",
       "    </tr>\n",
       "    <tr>\n",
       "      <th>2</th>\n",
       "      <td>2.525644</td>\n",
       "      <td>-0.259819</td>\n",
       "      <td>-1.078696</td>\n",
       "      <td>-0.472536</td>\n",
       "      <td>0.232778</td>\n",
       "      <td>-0.033760</td>\n",
       "      <td>-0.036474</td>\n",
       "      <td>-0.346551</td>\n",
       "      <td>0.302158</td>\n",
       "      <td>-0.379319</td>\n",
       "      <td>...</td>\n",
       "      <td>0.009780</td>\n",
       "      <td>-0.021580</td>\n",
       "      <td>0.175040</td>\n",
       "      <td>0.044812</td>\n",
       "      <td>0.033103</td>\n",
       "      <td>0.114014</td>\n",
       "      <td>0.008712</td>\n",
       "      <td>-0.003336</td>\n",
       "      <td>0.055338</td>\n",
       "      <td>0.069208</td>\n",
       "    </tr>\n",
       "    <tr>\n",
       "      <th>3</th>\n",
       "      <td>-0.766172</td>\n",
       "      <td>0.439606</td>\n",
       "      <td>-0.918046</td>\n",
       "      <td>1.671792</td>\n",
       "      <td>0.513645</td>\n",
       "      <td>-0.755962</td>\n",
       "      <td>0.341853</td>\n",
       "      <td>0.347858</td>\n",
       "      <td>0.249921</td>\n",
       "      <td>0.348625</td>\n",
       "      <td>...</td>\n",
       "      <td>0.100449</td>\n",
       "      <td>-0.066767</td>\n",
       "      <td>0.060873</td>\n",
       "      <td>0.030996</td>\n",
       "      <td>-0.152897</td>\n",
       "      <td>-0.069460</td>\n",
       "      <td>0.057610</td>\n",
       "      <td>-0.094745</td>\n",
       "      <td>-0.066005</td>\n",
       "      <td>0.140514</td>\n",
       "    </tr>\n",
       "    <tr>\n",
       "      <th>4</th>\n",
       "      <td>2.609064</td>\n",
       "      <td>-0.400176</td>\n",
       "      <td>-1.237370</td>\n",
       "      <td>-0.209184</td>\n",
       "      <td>0.348209</td>\n",
       "      <td>0.039803</td>\n",
       "      <td>0.026895</td>\n",
       "      <td>0.001394</td>\n",
       "      <td>0.560424</td>\n",
       "      <td>-0.482780</td>\n",
       "      <td>...</td>\n",
       "      <td>0.013336</td>\n",
       "      <td>-0.005162</td>\n",
       "      <td>0.166764</td>\n",
       "      <td>0.090881</td>\n",
       "      <td>-0.019996</td>\n",
       "      <td>0.145719</td>\n",
       "      <td>-0.069582</td>\n",
       "      <td>-0.062106</td>\n",
       "      <td>0.053314</td>\n",
       "      <td>0.109863</td>\n",
       "    </tr>\n",
       "  </tbody>\n",
       "</table>\n",
       "<p>5 rows × 170 columns</p>\n",
       "</div>"
      ],
      "text/plain": [
       "        0         1         2         3         4         5         6    \\\n",
       "0  2.105940  0.475911 -0.511311 -1.345076 -0.547346 -0.134278 -0.631703   \n",
       "1 -0.292918 -0.945770 -0.117115 -0.420407  0.275591 -0.121424  0.350893   \n",
       "2  2.525644 -0.259819 -1.078696 -0.472536  0.232778 -0.033760 -0.036474   \n",
       "3 -0.766172  0.439606 -0.918046  1.671792  0.513645 -0.755962  0.341853   \n",
       "4  2.609064 -0.400176 -1.237370 -0.209184  0.348209  0.039803  0.026895   \n",
       "\n",
       "        7         8         9      ...          160       161       162  \\\n",
       "0 -0.369111  0.418643 -0.448304    ...     0.014626  0.014364 -0.001778   \n",
       "1 -0.393735 -0.470385  0.405297    ...    -0.102298  0.000157  0.040102   \n",
       "2 -0.346551  0.302158 -0.379319    ...     0.009780 -0.021580  0.175040   \n",
       "3  0.347858  0.249921  0.348625    ...     0.100449 -0.066767  0.060873   \n",
       "4  0.001394  0.560424 -0.482780    ...     0.013336 -0.005162  0.166764   \n",
       "\n",
       "        163       164       165       166       167       168       169  \n",
       "0 -0.007508  0.018752  0.041500  0.031813  0.008972  0.008295 -0.023860  \n",
       "1  0.001255  0.089769  0.064201 -0.123524  0.040402  0.044882 -0.034373  \n",
       "2  0.044812  0.033103  0.114014  0.008712 -0.003336  0.055338  0.069208  \n",
       "3  0.030996 -0.152897 -0.069460  0.057610 -0.094745 -0.066005  0.140514  \n",
       "4  0.090881 -0.019996  0.145719 -0.069582 -0.062106  0.053314  0.109863  \n",
       "\n",
       "[5 rows x 170 columns]"
      ]
     },
     "execution_count": 13,
     "metadata": {},
     "output_type": "execute_result"
    }
   ],
   "source": [
    "trainPcaData_df = pd.DataFrame(trainPcaData)\n",
    "trainPcaData_df.head()"
   ]
  },
  {
   "cell_type": "code",
   "execution_count": 15,
   "metadata": {},
   "outputs": [],
   "source": [
    "X_train = trainPcaData_df"
   ]
  },
  {
   "cell_type": "code",
   "execution_count": 16,
   "metadata": {},
   "outputs": [],
   "source": [
    "#Now Run the Ridge Regularization\n",
    "from  sklearn.linear_model  import Ridge\n",
    "def reg_alpha(X,Y,alpha,normalize=True):\n",
    "    lreg = Ridge(alpha)\n",
    "    model = lreg.fit(X,Y)\n",
    "    Y_pred = model.predict(X)\n",
    "    return model,Y_pred,lreg\n",
    "\n",
    "def get_rmse(true_val,pred_val):\n",
    "    error = true_val-pred_val\n",
    "    rmse = np.sqrt(np.mean(error**2))\n",
    "    return rmse"
   ]
  },
  {
   "cell_type": "code",
   "execution_count": 17,
   "metadata": {},
   "outputs": [],
   "source": [
    "X = X_train\n",
    "Y = Y_train"
   ]
  },
  {
   "cell_type": "code",
   "execution_count": 19,
   "metadata": {},
   "outputs": [
    {
     "data": {
      "text/html": [
       "<div>\n",
       "<style scoped>\n",
       "    .dataframe tbody tr th:only-of-type {\n",
       "        vertical-align: middle;\n",
       "    }\n",
       "\n",
       "    .dataframe tbody tr th {\n",
       "        vertical-align: top;\n",
       "    }\n",
       "\n",
       "    .dataframe thead th {\n",
       "        text-align: right;\n",
       "    }\n",
       "</style>\n",
       "<table border=\"1\" class=\"dataframe\">\n",
       "  <thead>\n",
       "    <tr style=\"text-align: right;\">\n",
       "      <th></th>\n",
       "      <th>alpha</th>\n",
       "      <th>rmse</th>\n",
       "      <th>score</th>\n",
       "    </tr>\n",
       "  </thead>\n",
       "  <tbody>\n",
       "    <tr>\n",
       "      <th>0</th>\n",
       "      <td>100.0000</td>\n",
       "      <td>0.154507</td>\n",
       "      <td>0.850285</td>\n",
       "    </tr>\n",
       "    <tr>\n",
       "      <th>1</th>\n",
       "      <td>10.0000</td>\n",
       "      <td>0.124747</td>\n",
       "      <td>0.902405</td>\n",
       "    </tr>\n",
       "    <tr>\n",
       "      <th>2</th>\n",
       "      <td>1.0000</td>\n",
       "      <td>0.122030</td>\n",
       "      <td>0.906610</td>\n",
       "    </tr>\n",
       "    <tr>\n",
       "      <th>3</th>\n",
       "      <td>0.1000</td>\n",
       "      <td>0.121981</td>\n",
       "      <td>0.906685</td>\n",
       "    </tr>\n",
       "    <tr>\n",
       "      <th>4</th>\n",
       "      <td>0.0100</td>\n",
       "      <td>0.121980</td>\n",
       "      <td>0.906686</td>\n",
       "    </tr>\n",
       "    <tr>\n",
       "      <th>5</th>\n",
       "      <td>0.0010</td>\n",
       "      <td>0.121980</td>\n",
       "      <td>0.906686</td>\n",
       "    </tr>\n",
       "    <tr>\n",
       "      <th>6</th>\n",
       "      <td>0.0001</td>\n",
       "      <td>0.121980</td>\n",
       "      <td>0.906686</td>\n",
       "    </tr>\n",
       "  </tbody>\n",
       "</table>\n",
       "</div>"
      ],
      "text/plain": [
       "      alpha      rmse     score\n",
       "0  100.0000  0.154507  0.850285\n",
       "1   10.0000  0.124747  0.902405\n",
       "2    1.0000  0.122030  0.906610\n",
       "3    0.1000  0.121981  0.906685\n",
       "4    0.0100  0.121980  0.906686\n",
       "5    0.0010  0.121980  0.906686\n",
       "6    0.0001  0.121980  0.906686"
      ]
     },
     "execution_count": 19,
     "metadata": {},
     "output_type": "execute_result"
    }
   ],
   "source": [
    "output = []\n",
    "alpha = [100,10,1,0.1,0.01,0.001,0.0001]\n",
    "count=0\n",
    "for alpha_val in alpha:\n",
    "    X = sm.add_constant(X)\n",
    "    model,Y_pred_alpha,lreg = reg_alpha(X,Y,alpha_val)\n",
    "    rmse = get_rmse(Y,Y_pred_alpha)\n",
    "    score = model.score(X,Y)\n",
    "    output.append((alpha_val,rmse,score))\n",
    "    count+= 1\n",
    "    X.drop('const',axis=1,inplace=True)\n",
    "\n",
    "output_df = pd.DataFrame(output,columns=['alpha','rmse','score'])\n",
    "output_df  \n"
   ]
  },
  {
   "cell_type": "code",
   "execution_count": 20,
   "metadata": {},
   "outputs": [
    {
     "data": {
      "text/plain": [
       "<seaborn.axisgrid.FacetGrid at 0x271f6b96a20>"
      ]
     },
     "execution_count": 20,
     "metadata": {},
     "output_type": "execute_result"
    },
    {
     "data": {
      "image/png": "[encoded data removed]",
      "text/plain": [
       "<Figure size 360x360 with 1 Axes>"
      ]
     },
     "metadata": {
      "needs_background": "light"
     },
     "output_type": "display_data"
    }
   ],
   "source": [
    "sn.relplot(x='rmse',y='score',kind=\"line\",data=output_df)"
   ]
  },
  {
   "cell_type": "code",
   "execution_count": 21,
   "metadata": {},
   "outputs": [
    {
     "data": {
      "text/plain": [
       "<seaborn.axisgrid.FacetGrid at 0x271f67c3128>"
      ]
     },
     "execution_count": 21,
     "metadata": {},
     "output_type": "execute_result"
    },
    {
     "data": {
      "image/png": "[encoded data removed]",
      "text/plain": [
       "<Figure size 360x360 with 1 Axes>"
      ]
     },
     "metadata": {
      "needs_background": "light"
     },
     "output_type": "display_data"
    }
   ],
   "source": [
    "sn.relplot(x='alpha',y='score',kind=\"line\",data=output_df)"
   ]
  },
  {
   "cell_type": "code",
   "execution_count": 22,
   "metadata": {},
   "outputs": [
    {
     "data": {
      "text/plain": [
       "<seaborn.axisgrid.FacetGrid at 0x271f5ba7400>"
      ]
     },
     "execution_count": 22,
     "metadata": {},
     "output_type": "execute_result"
    },
    {
     "data": {
      "image/png": "[encoded data removed]",
      "text/plain": [
       "<Figure size 360x360 with 1 Axes>"
      ]
     },
     "metadata": {
      "needs_background": "light"
     },
     "output_type": "display_data"
    }
   ],
   "source": [
    "sn.relplot(x='alpha',y='rmse',kind=\"line\",data=output_df)"
   ]
  },
  {
   "cell_type": "code",
   "execution_count": 24,
   "metadata": {},
   "outputs": [],
   "source": [
    "#Let's keep alpha as 0.0100 as rest of the results are not realistic\n",
    "\n",
    "alpha = 0.01\n",
    "X = sm.add_constant(X)\n",
    "model,Y_pred_alpha_train,lreg = reg_alpha(X,Y,alpha)"
   ]
  },
  {
   "cell_type": "code",
   "execution_count": 33,
   "metadata": {},
   "outputs": [
    {
     "ename": "SyntaxError",
     "evalue": "invalid syntax (<ipython-input-33-42048ed79cfe>, line 1)",
     "output_type": "error",
     "traceback": [
      "\u001b[1;36m  File \u001b[1;32m\"<ipython-input-33-42048ed79cfe>\"\u001b[1;36m, line \u001b[1;32m1\u001b[0m\n\u001b[1;33m    coefs = model.coef_.map(lambda x: x != 0 x else 0)\u001b[0m\n\u001b[1;37m                                             ^\u001b[0m\n\u001b[1;31mSyntaxError\u001b[0m\u001b[1;31m:\u001b[0m invalid syntax\n"
     ]
    }
   ],
   "source": [
    "coefs = model.coef_.map(lambda x: x != 0 x else 0)\n",
    "coefs"
   ]
  },
  {
   "cell_type": "code",
   "execution_count": 34,
   "metadata": {},
   "outputs": [
    {
     "name": "stdout",
     "output_type": "stream",
     "text": [
      "43    -0.170802\n",
      "101   -0.168218\n",
      "167   -0.152998\n",
      "95    -0.148500\n",
      "55    -0.121542\n",
      "dtype: float64\n"
     ]
    }
   ],
   "source": [
    "coefs_df = pd.Series(model.coef_,index=X.columns)\n",
    "\n",
    "coefs_df = coefs_df.sort_values()\n",
    "print(coefs_df.head())"
   ]
  },
  {
   "cell_type": "code",
   "execution_count": 37,
   "metadata": {},
   "outputs": [
    {
     "data": {
      "text/plain": [
       "<matplotlib.axes._subplots.AxesSubplot at 0x271f6a17898>"
      ]
     },
     "execution_count": 37,
     "metadata": {},
     "output_type": "execute_result"
    },
    {
     "data": {
      "image/png": "[encoded data removed]",
      "text/plain": [
       "<Figure size 1440x1440 with 1 Axes>"
      ]
     },
     "metadata": {
      "needs_background": "light"
     },
     "output_type": "display_data"
    }
   ],
   "source": [
    "plt.figure(figsize=(20,20))\n",
    "coefs_df.plot(kind='barh')"
   ]
  },
  {
   "cell_type": "code",
   "execution_count": null,
   "metadata": {},
   "outputs": [],
   "source": [
    "#Prepare the test data\n",
    "test_data = getDataFromDf(test_df)\n",
    "testPreProcData = doMinMaxScaling(test_data)\n",
    "pca,testPcaData = doPCA(testPreProcData,ncomponents=170)\n",
    "X_test = pd.DataFrame(testPcaData)"
   ]
  },
  {
   "cell_type": "code",
   "execution_count": 106,
   "metadata": {},
   "outputs": [
    {
     "data": {
      "text/plain": [
       "array([12.08777553, 11.97377529, 12.26636953, ..., 11.93785486,\n",
       "       12.13377168, 12.02180465])"
      ]
     },
     "execution_count": 106,
     "metadata": {},
     "output_type": "execute_result"
    }
   ],
   "source": [
    "X_test = sm.add_constant(X_test)\n",
    "Y_pred_alpha_test = model.predict(X_test)\n",
    "Y_pred_alpha_test"
   ]
  },
  {
   "cell_type": "code",
   "execution_count": 107,
   "metadata": {},
   "outputs": [],
   "source": [
    "Y_pred_alpha_test = np.exp(Y_pred_alpha_test)"
   ]
  },
  {
   "cell_type": "code",
   "execution_count": 108,
   "metadata": {},
   "outputs": [],
   "source": [
    "Predict = pd.DataFrame({'Id': test_df.Id, 'SalePrice': (Y_pred_alpha_test)})\n",
    "Predict.reset_index(drop=True,inplace=True)\n",
    "Predict.to_csv('submission_PCA.csv')\n"
   ]
  },
  {
   "cell_type": "code",
   "execution_count": 109,
   "metadata": {},
   "outputs": [
    {
     "data": {
      "text/plain": [
       "(1460, 170)"
      ]
     },
     "execution_count": 109,
     "metadata": {},
     "output_type": "execute_result"
    }
   ],
   "source": [
    "#Lets try to get the data baxk from the PCA data 1460, 396\n",
    "trainPcaData.shape"
   ]
  },
  {
   "cell_type": "code",
   "execution_count": 110,
   "metadata": {},
   "outputs": [
    {
     "data": {
      "text/plain": [
       "(1460, 396)"
      ]
     },
     "execution_count": 110,
     "metadata": {},
     "output_type": "execute_result"
    }
   ],
   "source": [
    "train_data.shape "
   ]
  },
  {
   "cell_type": "code",
   "execution_count": 81,
   "metadata": {},
   "outputs": [
    {
     "data": {
      "text/plain": [
       "(1460,)"
      ]
     },
     "execution_count": 81,
     "metadata": {},
     "output_type": "execute_result"
    }
   ],
   "source": [
    "Y_pred_alpha_train.shape"
   ]
  },
  {
   "cell_type": "code",
   "execution_count": 114,
   "metadata": {},
   "outputs": [],
   "source": [
    "#trainApprox = np.dot(trainPcaData.T,train_data)\n",
    "params = pca.get_params(deep=True)"
   ]
  },
  {
   "cell_type": "code",
   "execution_count": 115,
   "metadata": {},
   "outputs": [
    {
     "data": {
      "text/plain": [
       "{'copy': True,\n",
       " 'iterated_power': 'auto',\n",
       " 'n_components': 170,\n",
       " 'random_state': None,\n",
       " 'svd_solver': 'auto',\n",
       " 'tol': 0.0,\n",
       " 'whiten': False}"
      ]
     },
     "execution_count": 115,
     "metadata": {},
     "output_type": "execute_result"
    }
   ],
   "source": [
    "params"
   ]
  },
  {
   "cell_type": "code",
   "execution_count": 118,
   "metadata": {},
   "outputs": [],
   "source": [
    "XApprox = pca.inverse_transform(trainPcaData)"
   ]
  },
  {
   "cell_type": "code",
   "execution_count": 119,
   "metadata": {},
   "outputs": [],
   "source": [
    "XApprox_df = pd.DataFrame(XApprox)"
   ]
  },
  {
   "cell_type": "code",
   "execution_count": 120,
   "metadata": {},
   "outputs": [
    {
     "data": {
      "text/plain": [
       "(1460, 378)"
      ]
     },
     "execution_count": 120,
     "metadata": {},
     "output_type": "execute_result"
    }
   ],
   "source": [
    "XApprox_df.shape"
   ]
  },
  {
   "cell_type": "code",
   "execution_count": 121,
   "metadata": {},
   "outputs": [],
   "source": [
    "XTestApprox = pca.inverse_transform(testPcaData)"
   ]
  },
  {
   "cell_type": "code",
   "execution_count": 122,
   "metadata": {},
   "outputs": [],
   "source": [
    "XTestApprox_df = pd.DataFrame(XTestApprox)"
   ]
  },
  {
   "cell_type": "code",
   "execution_count": 123,
   "metadata": {},
   "outputs": [
    {
     "data": {
      "text/plain": [
       "(1459, 378)"
      ]
     },
     "execution_count": 123,
     "metadata": {},
     "output_type": "execute_result"
    }
   ],
   "source": [
    "XTestApprox_df.shape"
   ]
  },
  {
   "cell_type": "code",
   "execution_count": null,
   "metadata": {},
   "outputs": [],
   "source": []
  }
 ],
 "metadata": {
  "kernelspec": {
   "display_name": "Python 3",
   "language": "python",
   "name": "python3"
  },
  "language_info": {
   "codemirror_mode": {
    "name": "ipython",
    "version": 3
   },
   "file_extension": ".py",
   "mimetype": "text/x-python",
   "name": "python",
   "nbconvert_exporter": "python",
   "pygments_lexer": "ipython3",
   "version": "3.7.0"
  }
 },
 "nbformat": 4,
 "nbformat_minor": 2
}
