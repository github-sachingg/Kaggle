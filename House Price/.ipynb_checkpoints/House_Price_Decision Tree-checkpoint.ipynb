{
 "cells": [
  {
   "cell_type": "code",
   "execution_count": 1,
   "metadata": {},
   "outputs": [],
   "source": [
    "import numpy as np\n",
    "import pandas as pd\n",
    "import seaborn as sn\n",
    "import statsmodels.api as sm\n",
    "import matplotlib.pyplot as plt\n",
    "from sklearn.linear_model import Ridge\n",
    "from sklearn.tree import DecisionTreeRegressor\n"
   ]
  },
  {
   "cell_type": "code",
   "execution_count": 2,
   "metadata": {},
   "outputs": [
    {
     "data": {
      "text/html": [
       "<div>\n",
       "<style scoped>\n",
       "    .dataframe tbody tr th:only-of-type {\n",
       "        vertical-align: middle;\n",
       "    }\n",
       "\n",
       "    .dataframe tbody tr th {\n",
       "        vertical-align: top;\n",
       "    }\n",
       "\n",
       "    .dataframe thead th {\n",
       "        text-align: right;\n",
       "    }\n",
       "</style>\n",
       "<table border=\"1\" class=\"dataframe\">\n",
       "  <thead>\n",
       "    <tr style=\"text-align: right;\">\n",
       "      <th></th>\n",
       "      <th>Id</th>\n",
       "      <th>MSSubClass</th>\n",
       "      <th>MSZoning</th>\n",
       "      <th>LotFrontage</th>\n",
       "      <th>LotArea</th>\n",
       "      <th>Street</th>\n",
       "      <th>Alley</th>\n",
       "      <th>LotShape</th>\n",
       "      <th>LandContour</th>\n",
       "      <th>Utilities</th>\n",
       "      <th>...</th>\n",
       "      <th>ScreenPorch</th>\n",
       "      <th>PoolArea</th>\n",
       "      <th>PoolQC</th>\n",
       "      <th>Fence</th>\n",
       "      <th>MiscFeature</th>\n",
       "      <th>MiscVal</th>\n",
       "      <th>MoSold</th>\n",
       "      <th>YrSold</th>\n",
       "      <th>SaleType</th>\n",
       "      <th>SaleCondition</th>\n",
       "    </tr>\n",
       "  </thead>\n",
       "  <tbody>\n",
       "    <tr>\n",
       "      <th>0</th>\n",
       "      <td>1461</td>\n",
       "      <td>20</td>\n",
       "      <td>RH</td>\n",
       "      <td>80.0</td>\n",
       "      <td>11622</td>\n",
       "      <td>Pave</td>\n",
       "      <td>NaN</td>\n",
       "      <td>Reg</td>\n",
       "      <td>Lvl</td>\n",
       "      <td>AllPub</td>\n",
       "      <td>...</td>\n",
       "      <td>120</td>\n",
       "      <td>0</td>\n",
       "      <td>NaN</td>\n",
       "      <td>MnPrv</td>\n",
       "      <td>NaN</td>\n",
       "      <td>0</td>\n",
       "      <td>6</td>\n",
       "      <td>2010</td>\n",
       "      <td>WD</td>\n",
       "      <td>Normal</td>\n",
       "    </tr>\n",
       "    <tr>\n",
       "      <th>1</th>\n",
       "      <td>1462</td>\n",
       "      <td>20</td>\n",
       "      <td>RL</td>\n",
       "      <td>81.0</td>\n",
       "      <td>14267</td>\n",
       "      <td>Pave</td>\n",
       "      <td>NaN</td>\n",
       "      <td>IR1</td>\n",
       "      <td>Lvl</td>\n",
       "      <td>AllPub</td>\n",
       "      <td>...</td>\n",
       "      <td>0</td>\n",
       "      <td>0</td>\n",
       "      <td>NaN</td>\n",
       "      <td>NaN</td>\n",
       "      <td>Gar2</td>\n",
       "      <td>12500</td>\n",
       "      <td>6</td>\n",
       "      <td>2010</td>\n",
       "      <td>WD</td>\n",
       "      <td>Normal</td>\n",
       "    </tr>\n",
       "    <tr>\n",
       "      <th>2</th>\n",
       "      <td>1463</td>\n",
       "      <td>60</td>\n",
       "      <td>RL</td>\n",
       "      <td>74.0</td>\n",
       "      <td>13830</td>\n",
       "      <td>Pave</td>\n",
       "      <td>NaN</td>\n",
       "      <td>IR1</td>\n",
       "      <td>Lvl</td>\n",
       "      <td>AllPub</td>\n",
       "      <td>...</td>\n",
       "      <td>0</td>\n",
       "      <td>0</td>\n",
       "      <td>NaN</td>\n",
       "      <td>MnPrv</td>\n",
       "      <td>NaN</td>\n",
       "      <td>0</td>\n",
       "      <td>3</td>\n",
       "      <td>2010</td>\n",
       "      <td>WD</td>\n",
       "      <td>Normal</td>\n",
       "    </tr>\n",
       "    <tr>\n",
       "      <th>3</th>\n",
       "      <td>1464</td>\n",
       "      <td>60</td>\n",
       "      <td>RL</td>\n",
       "      <td>78.0</td>\n",
       "      <td>9978</td>\n",
       "      <td>Pave</td>\n",
       "      <td>NaN</td>\n",
       "      <td>IR1</td>\n",
       "      <td>Lvl</td>\n",
       "      <td>AllPub</td>\n",
       "      <td>...</td>\n",
       "      <td>0</td>\n",
       "      <td>0</td>\n",
       "      <td>NaN</td>\n",
       "      <td>NaN</td>\n",
       "      <td>NaN</td>\n",
       "      <td>0</td>\n",
       "      <td>6</td>\n",
       "      <td>2010</td>\n",
       "      <td>WD</td>\n",
       "      <td>Normal</td>\n",
       "    </tr>\n",
       "    <tr>\n",
       "      <th>4</th>\n",
       "      <td>1465</td>\n",
       "      <td>120</td>\n",
       "      <td>RL</td>\n",
       "      <td>43.0</td>\n",
       "      <td>5005</td>\n",
       "      <td>Pave</td>\n",
       "      <td>NaN</td>\n",
       "      <td>IR1</td>\n",
       "      <td>HLS</td>\n",
       "      <td>AllPub</td>\n",
       "      <td>...</td>\n",
       "      <td>144</td>\n",
       "      <td>0</td>\n",
       "      <td>NaN</td>\n",
       "      <td>NaN</td>\n",
       "      <td>NaN</td>\n",
       "      <td>0</td>\n",
       "      <td>1</td>\n",
       "      <td>2010</td>\n",
       "      <td>WD</td>\n",
       "      <td>Normal</td>\n",
       "    </tr>\n",
       "  </tbody>\n",
       "</table>\n",
       "<p>5 rows × 80 columns</p>\n",
       "</div>"
      ],
      "text/plain": [
       "     Id  MSSubClass MSZoning  LotFrontage  LotArea Street Alley LotShape  \\\n",
       "0  1461          20       RH         80.0    11622   Pave   NaN      Reg   \n",
       "1  1462          20       RL         81.0    14267   Pave   NaN      IR1   \n",
       "2  1463          60       RL         74.0    13830   Pave   NaN      IR1   \n",
       "3  1464          60       RL         78.0     9978   Pave   NaN      IR1   \n",
       "4  1465         120       RL         43.0     5005   Pave   NaN      IR1   \n",
       "\n",
       "  LandContour Utilities      ...       ScreenPorch PoolArea PoolQC  Fence  \\\n",
       "0         Lvl    AllPub      ...               120        0    NaN  MnPrv   \n",
       "1         Lvl    AllPub      ...                 0        0    NaN    NaN   \n",
       "2         Lvl    AllPub      ...                 0        0    NaN  MnPrv   \n",
       "3         Lvl    AllPub      ...                 0        0    NaN    NaN   \n",
       "4         HLS    AllPub      ...               144        0    NaN    NaN   \n",
       "\n",
       "  MiscFeature MiscVal MoSold  YrSold  SaleType  SaleCondition  \n",
       "0         NaN       0      6    2010        WD         Normal  \n",
       "1        Gar2   12500      6    2010        WD         Normal  \n",
       "2         NaN       0      3    2010        WD         Normal  \n",
       "3         NaN       0      6    2010        WD         Normal  \n",
       "4         NaN       0      1    2010        WD         Normal  \n",
       "\n",
       "[5 rows x 80 columns]"
      ]
     },
     "execution_count": 2,
     "metadata": {},
     "output_type": "execute_result"
    }
   ],
   "source": [
    "df = pd.read_csv(r\"..\\input\\train.csv\")\n",
    "test_df = pd.read_csv(r\"..\\input\\test.csv\")\n",
    "\n",
    "test_df.head()\n",
    "\n"
   ]
  },
  {
   "cell_type": "code",
   "execution_count": null,
   "metadata": {},
   "outputs": [],
   "source": []
  },
  {
   "cell_type": "code",
   "execution_count": 3,
   "metadata": {},
   "outputs": [],
   "source": [
    "#Get the dummy variables for all features.\n",
    "# 1 : Numerical : Fill with the mean values\n",
    "# 2:  Categorical : 1) Replace NA with None, as NA has some meaning. \n",
    "#                      Like NA for parking will mean No parking and may effect SaleCost\n",
    "#Rest all delete the rows\n",
    "\n",
    "def clean_data(df):\n",
    "    df['MasVnrType'].fillna(\"NoNe\",inplace=True)\n",
    "    df['MasVnrArea'].fillna(df['MasVnrArea'].mean(),inplace=True)\n",
    "    df['BsmtFinSF2'].fillna(df['BsmtFinSF2'].mean(),inplace=True)\n",
    "    df['BsmtUnfSF'].fillna(df['BsmtUnfSF'].mean(),inplace=True)\n",
    "    df['TotalBsmtSF'].fillna(df['TotalBsmtSF'].mean(),inplace=True)\n",
    "    df['BsmtFullBath'].fillna(df['BsmtFullBath'].mean(),inplace=True)\n",
    "    df['BsmtHalfBath'].fillna(df['BsmtHalfBath'].mean(),inplace=True)\n",
    "    df['LotFrontage'].fillna(df['LotFrontage'].mean(),inplace=True)\n",
    "    df['Alley'].fillna(\"NoNe\",inplace=True)\n",
    "    df['FireplaceQu'].fillna(\"NoNe\",inplace=True)\n",
    "    df['GarageType'].fillna(\"NoNe\",inplace=True)\n",
    "    df['GarageYrBlt'].fillna(\"NoNe\",inplace=True)\n",
    "    df['GarageFinish'].fillna(\"NoNe\",inplace=True)\n",
    "    df['GarageQual'].fillna(\"NoNe\",inplace=True)\n",
    "    df['GarageCond'].fillna(\"NoNe\",inplace=True)\n",
    "    df['PoolQC'].fillna(\"NoNe\",inplace=True)\n",
    "    df['Fence'].fillna(\"NoNe\",inplace=True)\n",
    "    df['MiscFeature'].fillna(\"NoNe\",inplace=True)\n",
    "    df['GarageCars'].fillna(df['GarageCars'].mean(),inplace=True)\n",
    "    df['GarageArea'].fillna(df['GarageArea'].mean(),inplace=True)\n",
    "    #For rest of he variables we will drop the data\n",
    "    #df.dropna(axis=0,inplace=True)\n",
    "    return df\n",
    "def clean_data_test(df):\n",
    "    df['MasVnrType'].fillna(\"NoNe\",inplace=True)\n",
    "    df['MasVnrArea'].fillna(df['MasVnrArea'].mean(),inplace=True)\n",
    "    df['BsmtFinSF2'].fillna(df['BsmtFinSF2'].mean(),inplace=True)\n",
    "    df['BsmtUnfSF'].fillna(df['BsmtUnfSF'].mean(),inplace=True)\n",
    "    df['TotalBsmtSF'].fillna(df['TotalBsmtSF'].mean(),inplace=True)\n",
    "    df['BsmtFullBath'].fillna(df['BsmtFullBath'].mean(),inplace=True)\n",
    "    df['BsmtHalfBath'].fillna(df['BsmtHalfBath'].mean(),inplace=True)\n",
    "    df['LotFrontage'].fillna(df['LotFrontage'].mean(),inplace=True)\n",
    "    df['Alley'].fillna(\"NoNe\",inplace=True)\n",
    "    df['FireplaceQu'].fillna(\"NoNe\",inplace=True)\n",
    "    df['GarageType'].fillna(\"NoNe\",inplace=True)\n",
    "    df['GarageYrBlt'].fillna(\"NoNe\",inplace=True)\n",
    "    df['GarageFinish'].fillna(\"NoNe\",inplace=True)\n",
    "    df['GarageQual'].fillna(\"NoNe\",inplace=True)\n",
    "    df['GarageCond'].fillna(\"NoNe\",inplace=True)\n",
    "    df['PoolQC'].fillna(\"NoNe\",inplace=True)\n",
    "    df['Fence'].fillna(\"NoNe\",inplace=True)\n",
    "    df['MiscFeature'].fillna(\"NoNe\",inplace=True)\n",
    "    df['GarageCars'].fillna(df['GarageCars'].mean(),inplace=True)\n",
    "    df['GarageArea'].fillna(df['GarageArea'].mean(),inplace=True)\n",
    "    df['BsmtFinSF1'].fillna(df['BsmtFinSF1'].mean(),inplace=True)\n",
    "    \n",
    "    return df\n",
    "    \n",
    "def get_dummies(df):\n",
    "    df = pd.get_dummies(df)\n",
    "    return df"
   ]
  },
  {
   "cell_type": "code",
   "execution_count": 4,
   "metadata": {},
   "outputs": [
    {
     "name": "stdout",
     "output_type": "stream",
     "text": [
      "(1460, 81)\n",
      "(1459, 80)\n"
     ]
    }
   ],
   "source": [
    "df = clean_data(df)\n",
    "test_df = clean_data_test(test_df)\n",
    "print(df.shape)\n",
    "print(test_df.shape)"
   ]
  },
  {
   "cell_type": "code",
   "execution_count": null,
   "metadata": {},
   "outputs": [],
   "source": []
  },
  {
   "cell_type": "code",
   "execution_count": 5,
   "metadata": {},
   "outputs": [
    {
     "name": "stdout",
     "output_type": "stream",
     "text": [
      "(1459, 378)\n",
      "(1460, 396)\n"
     ]
    }
   ],
   "source": [
    "#convert the categorical variable by adding dummies\n",
    "df = get_dummies(df)\n",
    "test_df = get_dummies(test_df)\n",
    "\n",
    "#Test to see if both the test & train data and same columns\n",
    "print(test_df.shape)\n",
    "\n",
    "df['SalePrice'] = np.log(df['SalePrice'])\n",
    "\n",
    "Y_train = df['SalePrice']\n",
    "df.drop('SalePrice',axis=1,inplace=True)\n",
    "\n",
    "print(df.shape)\n"
   ]
  },
  {
   "cell_type": "code",
   "execution_count": 6,
   "metadata": {},
   "outputs": [],
   "source": [
    "from sklearn.preprocessing import MinMaxScaler\n",
    "from sklearn.decomposition import PCA\n",
    "def doMinMaxScaling(df):\n",
    "    scalar = MinMaxScaler(feature_range = [0,1])\n",
    "    data = scalar.fit_transform(df)\n",
    "    return data\n",
    "\n",
    "def doPCA(df,ncomponents=0):\n",
    "    if ncomponents:\n",
    "        pca = PCA(n_components=ncomponents)\n",
    "        pcaData = pca.fit_transform(df)\n",
    "        return pca,pcaData\n",
    "    else:\n",
    "        pca = PCA().fit(df)\n",
    "        return pca\n",
    "    \n",
    "def getDataFromDf(df):\n",
    "    return df.iloc[:,:]"
   ]
  },
  {
   "cell_type": "code",
   "execution_count": 7,
   "metadata": {},
   "outputs": [],
   "source": [
    "train_data = getDataFromDf(df)\n"
   ]
  },
  {
   "cell_type": "code",
   "execution_count": 8,
   "metadata": {},
   "outputs": [],
   "source": [
    "preProcData = doMinMaxScaling(train_data)\n"
   ]
  },
  {
   "cell_type": "code",
   "execution_count": 9,
   "metadata": {},
   "outputs": [],
   "source": [
    "pca = doPCA(preProcData)"
   ]
  },
  {
   "cell_type": "code",
   "execution_count": 10,
   "metadata": {},
   "outputs": [
    {
     "data": {
      "image/png": "[encoded data removed]",
      "text/plain": [
       "<Figure size 432x288 with 1 Axes>"
      ]
     },
     "metadata": {
      "needs_background": "light"
     },
     "output_type": "display_data"
    }
   ],
   "source": [
    "plt.plot(np.cumsum(pca.explained_variance_ratio_))\n",
    "plt.xlabel(\"Components\")\n",
    "plt.ylabel('Variance')\n",
    "plt.show()\n"
   ]
  },
  {
   "cell_type": "code",
   "execution_count": 11,
   "metadata": {},
   "outputs": [],
   "source": [
    "#Looks like 170 is the number we can take for the number of components\n"
   ]
  },
  {
   "cell_type": "code",
   "execution_count": 12,
   "metadata": {},
   "outputs": [],
   "source": [
    "pca,trainPcaData = doPCA(preProcData,ncomponents=170)\n",
    "params = pca.get_params()\n"
   ]
  },
  {
   "cell_type": "code",
   "execution_count": 13,
   "metadata": {},
   "outputs": [
    {
     "data": {
      "text/html": [
       "<div>\n",
       "<style scoped>\n",
       "    .dataframe tbody tr th:only-of-type {\n",
       "        vertical-align: middle;\n",
       "    }\n",
       "\n",
       "    .dataframe tbody tr th {\n",
       "        vertical-align: top;\n",
       "    }\n",
       "\n",
       "    .dataframe thead th {\n",
       "        text-align: right;\n",
       "    }\n",
       "</style>\n",
       "<table border=\"1\" class=\"dataframe\">\n",
       "  <thead>\n",
       "    <tr style=\"text-align: right;\">\n",
       "      <th></th>\n",
       "      <th>0</th>\n",
       "      <th>1</th>\n",
       "      <th>2</th>\n",
       "      <th>3</th>\n",
       "      <th>4</th>\n",
       "      <th>5</th>\n",
       "      <th>6</th>\n",
       "      <th>7</th>\n",
       "      <th>8</th>\n",
       "      <th>9</th>\n",
       "      <th>...</th>\n",
       "      <th>160</th>\n",
       "      <th>161</th>\n",
       "      <th>162</th>\n",
       "      <th>163</th>\n",
       "      <th>164</th>\n",
       "      <th>165</th>\n",
       "      <th>166</th>\n",
       "      <th>167</th>\n",
       "      <th>168</th>\n",
       "      <th>169</th>\n",
       "    </tr>\n",
       "  </thead>\n",
       "  <tbody>\n",
       "    <tr>\n",
       "      <th>0</th>\n",
       "      <td>2.105940</td>\n",
       "      <td>0.475911</td>\n",
       "      <td>-0.511311</td>\n",
       "      <td>-1.345076</td>\n",
       "      <td>-0.547346</td>\n",
       "      <td>-0.134278</td>\n",
       "      <td>-0.631703</td>\n",
       "      <td>-0.369111</td>\n",
       "      <td>0.418643</td>\n",
       "      <td>-0.448304</td>\n",
       "      <td>...</td>\n",
       "      <td>-0.005029</td>\n",
       "      <td>0.011492</td>\n",
       "      <td>-0.018236</td>\n",
       "      <td>-0.000886</td>\n",
       "      <td>-0.025164</td>\n",
       "      <td>0.016432</td>\n",
       "      <td>0.015555</td>\n",
       "      <td>0.019278</td>\n",
       "      <td>0.017303</td>\n",
       "      <td>-0.035488</td>\n",
       "    </tr>\n",
       "    <tr>\n",
       "      <th>1</th>\n",
       "      <td>-0.292918</td>\n",
       "      <td>-0.945770</td>\n",
       "      <td>-0.117115</td>\n",
       "      <td>-0.420407</td>\n",
       "      <td>0.275591</td>\n",
       "      <td>-0.121424</td>\n",
       "      <td>0.350893</td>\n",
       "      <td>-0.393736</td>\n",
       "      <td>-0.470385</td>\n",
       "      <td>0.405297</td>\n",
       "      <td>...</td>\n",
       "      <td>0.080375</td>\n",
       "      <td>-0.021401</td>\n",
       "      <td>0.092311</td>\n",
       "      <td>-0.002974</td>\n",
       "      <td>0.044058</td>\n",
       "      <td>-0.050524</td>\n",
       "      <td>-0.039607</td>\n",
       "      <td>-0.018972</td>\n",
       "      <td>0.204596</td>\n",
       "      <td>-0.085348</td>\n",
       "    </tr>\n",
       "    <tr>\n",
       "      <th>2</th>\n",
       "      <td>2.525644</td>\n",
       "      <td>-0.259819</td>\n",
       "      <td>-1.078696</td>\n",
       "      <td>-0.472536</td>\n",
       "      <td>0.232778</td>\n",
       "      <td>-0.033760</td>\n",
       "      <td>-0.036474</td>\n",
       "      <td>-0.346551</td>\n",
       "      <td>0.302158</td>\n",
       "      <td>-0.379319</td>\n",
       "      <td>...</td>\n",
       "      <td>-0.044456</td>\n",
       "      <td>-0.019049</td>\n",
       "      <td>-0.084471</td>\n",
       "      <td>0.165103</td>\n",
       "      <td>-0.112827</td>\n",
       "      <td>-0.022520</td>\n",
       "      <td>-0.027423</td>\n",
       "      <td>-0.039024</td>\n",
       "      <td>-0.008437</td>\n",
       "      <td>0.033378</td>\n",
       "    </tr>\n",
       "    <tr>\n",
       "      <th>3</th>\n",
       "      <td>-0.766172</td>\n",
       "      <td>0.439606</td>\n",
       "      <td>-0.918046</td>\n",
       "      <td>1.671792</td>\n",
       "      <td>0.513645</td>\n",
       "      <td>-0.755962</td>\n",
       "      <td>0.341853</td>\n",
       "      <td>0.347858</td>\n",
       "      <td>0.249921</td>\n",
       "      <td>0.348625</td>\n",
       "      <td>...</td>\n",
       "      <td>0.043185</td>\n",
       "      <td>-0.006229</td>\n",
       "      <td>-0.080015</td>\n",
       "      <td>-0.073184</td>\n",
       "      <td>-0.014927</td>\n",
       "      <td>-0.129762</td>\n",
       "      <td>-0.060901</td>\n",
       "      <td>-0.187502</td>\n",
       "      <td>-0.036505</td>\n",
       "      <td>0.022294</td>\n",
       "    </tr>\n",
       "    <tr>\n",
       "      <th>4</th>\n",
       "      <td>2.609064</td>\n",
       "      <td>-0.400176</td>\n",
       "      <td>-1.237370</td>\n",
       "      <td>-0.209184</td>\n",
       "      <td>0.348209</td>\n",
       "      <td>0.039803</td>\n",
       "      <td>0.026895</td>\n",
       "      <td>0.001394</td>\n",
       "      <td>0.560424</td>\n",
       "      <td>-0.482780</td>\n",
       "      <td>...</td>\n",
       "      <td>0.010723</td>\n",
       "      <td>-0.006147</td>\n",
       "      <td>-0.009766</td>\n",
       "      <td>0.187700</td>\n",
       "      <td>-0.076940</td>\n",
       "      <td>0.031746</td>\n",
       "      <td>-0.163140</td>\n",
       "      <td>-0.035934</td>\n",
       "      <td>0.013675</td>\n",
       "      <td>0.061376</td>\n",
       "    </tr>\n",
       "  </tbody>\n",
       "</table>\n",
       "<p>5 rows × 170 columns</p>\n",
       "</div>"
      ],
      "text/plain": [
       "        0         1         2         3         4         5         6    \\\n",
       "0  2.105940  0.475911 -0.511311 -1.345076 -0.547346 -0.134278 -0.631703   \n",
       "1 -0.292918 -0.945770 -0.117115 -0.420407  0.275591 -0.121424  0.350893   \n",
       "2  2.525644 -0.259819 -1.078696 -0.472536  0.232778 -0.033760 -0.036474   \n",
       "3 -0.766172  0.439606 -0.918046  1.671792  0.513645 -0.755962  0.341853   \n",
       "4  2.609064 -0.400176 -1.237370 -0.209184  0.348209  0.039803  0.026895   \n",
       "\n",
       "        7         8         9      ...          160       161       162  \\\n",
       "0 -0.369111  0.418643 -0.448304    ...    -0.005029  0.011492 -0.018236   \n",
       "1 -0.393736 -0.470385  0.405297    ...     0.080375 -0.021401  0.092311   \n",
       "2 -0.346551  0.302158 -0.379319    ...    -0.044456 -0.019049 -0.084471   \n",
       "3  0.347858  0.249921  0.348625    ...     0.043185 -0.006229 -0.080015   \n",
       "4  0.001394  0.560424 -0.482780    ...     0.010723 -0.006147 -0.009766   \n",
       "\n",
       "        163       164       165       166       167       168       169  \n",
       "0 -0.000886 -0.025164  0.016432  0.015555  0.019278  0.017303 -0.035488  \n",
       "1 -0.002974  0.044058 -0.050524 -0.039607 -0.018972  0.204596 -0.085348  \n",
       "2  0.165103 -0.112827 -0.022520 -0.027423 -0.039024 -0.008437  0.033378  \n",
       "3 -0.073184 -0.014927 -0.129762 -0.060901 -0.187502 -0.036505  0.022294  \n",
       "4  0.187700 -0.076940  0.031746 -0.163140 -0.035934  0.013675  0.061376  \n",
       "\n",
       "[5 rows x 170 columns]"
      ]
     },
     "execution_count": 13,
     "metadata": {},
     "output_type": "execute_result"
    }
   ],
   "source": [
    "trainPcaData_df = pd.DataFrame(trainPcaData)\n",
    "trainPcaData_df.head()"
   ]
  },
  {
   "cell_type": "code",
   "execution_count": 14,
   "metadata": {},
   "outputs": [],
   "source": [
    "X_train = trainPcaData_df"
   ]
  },
  {
   "cell_type": "code",
   "execution_count": 15,
   "metadata": {},
   "outputs": [],
   "source": [
    "#Now Run the Ridge Regularization\n",
    "def reg_alpha(X,Y,alpha,normalize=True):\n",
    "    lreg = Ridge(alpha)\n",
    "    model = lreg.fit(X,Y)\n",
    "    Y_pred = model.predict(X)\n",
    "    return model,Y_pred,lreg\n",
    "\n",
    "def get_rmse(true_val,pred_val):\n",
    "    error = true_val-pred_val\n",
    "    rmse = np.sqrt(np.mean(error**2))\n",
    "    return rmse\n",
    "\n",
    "def runDescisionTree(X,Y):\n",
    "    regressor = DecisionTreeRegressor(random_state=0)\n",
    "    model = regressor.fit(X,Y)\n",
    "    return model"
   ]
  },
  {
   "cell_type": "code",
   "execution_count": 16,
   "metadata": {},
   "outputs": [],
   "source": [
    "X = X_train\n",
    "Y = Y_train"
   ]
  },
  {
   "cell_type": "code",
   "execution_count": 17,
   "metadata": {},
   "outputs": [],
   "source": [
    "#Run The DecisionTree\n",
    "model = runDescisionTree(X,Y)\n",
    "Y_pred = model.predict(X)"
   ]
  },
  {
   "cell_type": "code",
   "execution_count": 18,
   "metadata": {},
   "outputs": [
    {
     "name": "stdout",
     "output_type": "stream",
     "text": [
      "0.999999994964616\n"
     ]
    }
   ],
   "source": [
    "score = model.score(X,Y)\n",
    "print(score)"
   ]
  },
  {
   "cell_type": "code",
   "execution_count": 21,
   "metadata": {},
   "outputs": [
    {
     "data": {
      "text/plain": [
       "0    12.247694\n",
       "1    12.109011\n",
       "2    12.317167\n",
       "3    11.849398\n",
       "4    12.429216\n",
       "dtype: float64"
      ]
     },
     "execution_count": 21,
     "metadata": {},
     "output_type": "execute_result"
    }
   ],
   "source": [
    "Y_pred_df = pd.Series(Y_pred)\n",
    "Y_pred_df.head()"
   ]
  },
  {
   "cell_type": "code",
   "execution_count": 22,
   "metadata": {},
   "outputs": [
    {
     "name": "stdout",
     "output_type": "stream",
     "text": [
      "2.8335571079583646e-05\n"
     ]
    }
   ],
   "source": [
    "rmse = get_rmse(Y,Y_pred_df)\n",
    "print(rmse)"
   ]
  },
  {
   "cell_type": "code",
   "execution_count": 24,
   "metadata": {},
   "outputs": [],
   "source": [
    "#Prepare the test data\n",
    "test_data = getDataFromDf(test_df)\n",
    "testPreProcData = doMinMaxScaling(test_data)\n",
    "pca,testPcaData = doPCA(testPreProcData,ncomponents=170)\n",
    "X_test = pd.DataFrame(testPcaData)"
   ]
  },
  {
   "cell_type": "code",
   "execution_count": 25,
   "metadata": {},
   "outputs": [],
   "source": [
    "Y_pred_test = model.predict(X_test)"
   ]
  },
  {
   "cell_type": "code",
   "execution_count": 26,
   "metadata": {},
   "outputs": [],
   "source": [
    "Y_pred_test = np.exp(Y_pred_test)"
   ]
  },
  {
   "cell_type": "code",
   "execution_count": 32,
   "metadata": {},
   "outputs": [],
   "source": [
    "Predict = pd.DataFrame({'Id': test_df.Id, 'SalePrice': (Y_pred_test)})\n",
    "Predict.reset_index(drop=True,inplace=True)\n",
    "Predict.to_csv('submission_PCA_DecisionTree.csv')\n"
   ]
  },
  {
   "cell_type": "code",
   "execution_count": 33,
   "metadata": {},
   "outputs": [],
   "source": [
    "XTestApprox = pca.inverse_transform(testPcaData)"
   ]
  },
  {
   "cell_type": "code",
   "execution_count": 34,
   "metadata": {},
   "outputs": [],
   "source": [
    "XTestApprox_df = pd.DataFrame(XTestApprox)"
   ]
  },
  {
   "cell_type": "code",
   "execution_count": 35,
   "metadata": {},
   "outputs": [
    {
     "data": {
      "text/plain": [
       "(1459, 378)"
      ]
     },
     "execution_count": 35,
     "metadata": {},
     "output_type": "execute_result"
    }
   ],
   "source": [
    "XTestApprox_df.shape"
   ]
  },
  {
   "cell_type": "code",
   "execution_count": 37,
   "metadata": {},
   "outputs": [],
   "source": [
    "XTestApprox_df.columns = test_df.columns"
   ]
  },
  {
   "cell_type": "code",
   "execution_count": 38,
   "metadata": {},
   "outputs": [
    {
     "data": {
      "text/html": [
       "<div>\n",
       "<style scoped>\n",
       "    .dataframe tbody tr th:only-of-type {\n",
       "        vertical-align: middle;\n",
       "    }\n",
       "\n",
       "    .dataframe tbody tr th {\n",
       "        vertical-align: top;\n",
       "    }\n",
       "\n",
       "    .dataframe thead th {\n",
       "        text-align: right;\n",
       "    }\n",
       "</style>\n",
       "<table border=\"1\" class=\"dataframe\">\n",
       "  <thead>\n",
       "    <tr style=\"text-align: right;\">\n",
       "      <th></th>\n",
       "      <th>Id</th>\n",
       "      <th>MSSubClass</th>\n",
       "      <th>LotFrontage</th>\n",
       "      <th>LotArea</th>\n",
       "      <th>OverallQual</th>\n",
       "      <th>OverallCond</th>\n",
       "      <th>YearBuilt</th>\n",
       "      <th>YearRemodAdd</th>\n",
       "      <th>MasVnrArea</th>\n",
       "      <th>BsmtFinSF1</th>\n",
       "      <th>...</th>\n",
       "      <th>SaleType_ConLw</th>\n",
       "      <th>SaleType_New</th>\n",
       "      <th>SaleType_Oth</th>\n",
       "      <th>SaleType_WD</th>\n",
       "      <th>SaleCondition_Abnorml</th>\n",
       "      <th>SaleCondition_AdjLand</th>\n",
       "      <th>SaleCondition_Alloca</th>\n",
       "      <th>SaleCondition_Family</th>\n",
       "      <th>SaleCondition_Normal</th>\n",
       "      <th>SaleCondition_Partial</th>\n",
       "    </tr>\n",
       "  </thead>\n",
       "  <tbody>\n",
       "    <tr>\n",
       "      <th>0</th>\n",
       "      <td>-0.000096</td>\n",
       "      <td>-0.015971</td>\n",
       "      <td>0.298219</td>\n",
       "      <td>0.136898</td>\n",
       "      <td>0.392493</td>\n",
       "      <td>0.544377</td>\n",
       "      <td>0.626796</td>\n",
       "      <td>0.198904</td>\n",
       "      <td>-0.021086</td>\n",
       "      <td>0.122626</td>\n",
       "      <td>...</td>\n",
       "      <td>-0.008917</td>\n",
       "      <td>0.000557</td>\n",
       "      <td>0.011969</td>\n",
       "      <td>0.994633</td>\n",
       "      <td>0.026781</td>\n",
       "      <td>-0.076612</td>\n",
       "      <td>-0.021804</td>\n",
       "      <td>0.037197</td>\n",
       "      <td>1.022200</td>\n",
       "      <td>0.012238</td>\n",
       "    </tr>\n",
       "    <tr>\n",
       "      <th>1</th>\n",
       "      <td>-0.004695</td>\n",
       "      <td>0.010792</td>\n",
       "      <td>0.347836</td>\n",
       "      <td>0.247679</td>\n",
       "      <td>0.484895</td>\n",
       "      <td>0.678245</td>\n",
       "      <td>0.631668</td>\n",
       "      <td>0.112317</td>\n",
       "      <td>0.262618</td>\n",
       "      <td>0.161212</td>\n",
       "      <td>...</td>\n",
       "      <td>-0.001450</td>\n",
       "      <td>0.001312</td>\n",
       "      <td>0.004685</td>\n",
       "      <td>0.978418</td>\n",
       "      <td>0.001252</td>\n",
       "      <td>-0.027355</td>\n",
       "      <td>0.007210</td>\n",
       "      <td>0.025691</td>\n",
       "      <td>1.007982</td>\n",
       "      <td>-0.014780</td>\n",
       "    </tr>\n",
       "    <tr>\n",
       "      <th>2</th>\n",
       "      <td>-0.032740</td>\n",
       "      <td>0.236135</td>\n",
       "      <td>0.243104</td>\n",
       "      <td>0.154069</td>\n",
       "      <td>0.508647</td>\n",
       "      <td>0.477349</td>\n",
       "      <td>0.911929</td>\n",
       "      <td>0.804106</td>\n",
       "      <td>0.036674</td>\n",
       "      <td>0.155939</td>\n",
       "      <td>...</td>\n",
       "      <td>-0.000735</td>\n",
       "      <td>-0.005418</td>\n",
       "      <td>0.008094</td>\n",
       "      <td>1.009709</td>\n",
       "      <td>-0.006563</td>\n",
       "      <td>-0.033144</td>\n",
       "      <td>0.042319</td>\n",
       "      <td>-0.003603</td>\n",
       "      <td>0.998730</td>\n",
       "      <td>0.002261</td>\n",
       "    </tr>\n",
       "    <tr>\n",
       "      <th>3</th>\n",
       "      <td>-0.035361</td>\n",
       "      <td>0.243522</td>\n",
       "      <td>0.274974</td>\n",
       "      <td>0.153390</td>\n",
       "      <td>0.621035</td>\n",
       "      <td>0.620272</td>\n",
       "      <td>0.852043</td>\n",
       "      <td>0.807463</td>\n",
       "      <td>0.061647</td>\n",
       "      <td>0.101646</td>\n",
       "      <td>...</td>\n",
       "      <td>0.006267</td>\n",
       "      <td>0.000360</td>\n",
       "      <td>0.011736</td>\n",
       "      <td>0.995161</td>\n",
       "      <td>0.005625</td>\n",
       "      <td>-0.038164</td>\n",
       "      <td>-0.003101</td>\n",
       "      <td>0.025156</td>\n",
       "      <td>1.012874</td>\n",
       "      <td>-0.002389</td>\n",
       "    </tr>\n",
       "    <tr>\n",
       "      <th>4</th>\n",
       "      <td>-0.036570</td>\n",
       "      <td>0.637476</td>\n",
       "      <td>0.124125</td>\n",
       "      <td>0.096316</td>\n",
       "      <td>0.718864</td>\n",
       "      <td>0.509932</td>\n",
       "      <td>0.850911</td>\n",
       "      <td>0.697174</td>\n",
       "      <td>0.013740</td>\n",
       "      <td>0.064043</td>\n",
       "      <td>...</td>\n",
       "      <td>0.011002</td>\n",
       "      <td>-0.024216</td>\n",
       "      <td>0.010706</td>\n",
       "      <td>0.988537</td>\n",
       "      <td>-0.013796</td>\n",
       "      <td>-0.010732</td>\n",
       "      <td>0.034879</td>\n",
       "      <td>0.018091</td>\n",
       "      <td>0.990278</td>\n",
       "      <td>-0.018720</td>\n",
       "    </tr>\n",
       "  </tbody>\n",
       "</table>\n",
       "<p>5 rows × 378 columns</p>\n",
       "</div>"
      ],
      "text/plain": [
       "         Id  MSSubClass  LotFrontage   LotArea  OverallQual  OverallCond  \\\n",
       "0 -0.000096   -0.015971     0.298219  0.136898     0.392493     0.544377   \n",
       "1 -0.004695    0.010792     0.347836  0.247679     0.484895     0.678245   \n",
       "2 -0.032740    0.236135     0.243104  0.154069     0.508647     0.477349   \n",
       "3 -0.035361    0.243522     0.274974  0.153390     0.621035     0.620272   \n",
       "4 -0.036570    0.637476     0.124125  0.096316     0.718864     0.509932   \n",
       "\n",
       "   YearBuilt  YearRemodAdd  MasVnrArea  BsmtFinSF1          ...            \\\n",
       "0   0.626796      0.198904   -0.021086    0.122626          ...             \n",
       "1   0.631668      0.112317    0.262618    0.161212          ...             \n",
       "2   0.911929      0.804106    0.036674    0.155939          ...             \n",
       "3   0.852043      0.807463    0.061647    0.101646          ...             \n",
       "4   0.850911      0.697174    0.013740    0.064043          ...             \n",
       "\n",
       "   SaleType_ConLw  SaleType_New  SaleType_Oth  SaleType_WD  \\\n",
       "0       -0.008917      0.000557      0.011969     0.994633   \n",
       "1       -0.001450      0.001312      0.004685     0.978418   \n",
       "2       -0.000735     -0.005418      0.008094     1.009709   \n",
       "3        0.006267      0.000360      0.011736     0.995161   \n",
       "4        0.011002     -0.024216      0.010706     0.988537   \n",
       "\n",
       "   SaleCondition_Abnorml  SaleCondition_AdjLand  SaleCondition_Alloca  \\\n",
       "0               0.026781              -0.076612             -0.021804   \n",
       "1               0.001252              -0.027355              0.007210   \n",
       "2              -0.006563              -0.033144              0.042319   \n",
       "3               0.005625              -0.038164             -0.003101   \n",
       "4              -0.013796              -0.010732              0.034879   \n",
       "\n",
       "   SaleCondition_Family  SaleCondition_Normal  SaleCondition_Partial  \n",
       "0              0.037197              1.022200               0.012238  \n",
       "1              0.025691              1.007982              -0.014780  \n",
       "2             -0.003603              0.998730               0.002261  \n",
       "3              0.025156              1.012874              -0.002389  \n",
       "4              0.018091              0.990278              -0.018720  \n",
       "\n",
       "[5 rows x 378 columns]"
      ]
     },
     "execution_count": 38,
     "metadata": {},
     "output_type": "execute_result"
    }
   ],
   "source": [
    "XTestApprox_df.head()"
   ]
  },
  {
   "cell_type": "code",
   "execution_count": null,
   "metadata": {},
   "outputs": [],
   "source": []
  },
  {
   "cell_type": "code",
   "execution_count": null,
   "metadata": {},
   "outputs": [],
   "source": []
  },
  {
   "cell_type": "code",
   "execution_count": null,
   "metadata": {},
   "outputs": [],
   "source": []
  },
  {
   "cell_type": "code",
   "execution_count": null,
   "metadata": {},
   "outputs": [],
   "source": []
  },
  {
   "cell_type": "code",
   "execution_count": null,
   "metadata": {},
   "outputs": [],
   "source": []
  },
  {
   "cell_type": "code",
   "execution_count": null,
   "metadata": {},
   "outputs": [],
   "source": []
  },
  {
   "cell_type": "code",
   "execution_count": null,
   "metadata": {},
   "outputs": [],
   "source": []
  },
  {
   "cell_type": "code",
   "execution_count": null,
   "metadata": {},
   "outputs": [],
   "source": [
    "\n"
   ]
  },
  {
   "cell_type": "code",
   "execution_count": null,
   "metadata": {},
   "outputs": [],
   "source": []
  },
  {
   "cell_type": "code",
   "execution_count": null,
   "metadata": {},
   "outputs": [],
   "source": []
  },
  {
   "cell_type": "code",
   "execution_count": null,
   "metadata": {},
   "outputs": [],
   "source": []
  },
  {
   "cell_type": "code",
   "execution_count": null,
   "metadata": {},
   "outputs": [],
   "source": []
  },
  {
   "cell_type": "code",
   "execution_count": null,
   "metadata": {},
   "outputs": [],
   "source": []
  },
  {
   "cell_type": "code",
   "execution_count": null,
   "metadata": {},
   "outputs": [],
   "source": []
  },
  {
   "cell_type": "code",
   "execution_count": null,
   "metadata": {},
   "outputs": [],
   "source": []
  },
  {
   "cell_type": "code",
   "execution_count": null,
   "metadata": {},
   "outputs": [],
   "source": []
  },
  {
   "cell_type": "code",
   "execution_count": null,
   "metadata": {},
   "outputs": [],
   "source": []
  },
  {
   "cell_type": "code",
   "execution_count": 122,
   "metadata": {},
   "outputs": [],
   "source": []
  },
  {
   "cell_type": "code",
   "execution_count": 123,
   "metadata": {},
   "outputs": [
    {
     "data": {
      "text/plain": [
       "(1459, 378)"
      ]
     },
     "execution_count": 123,
     "metadata": {},
     "output_type": "execute_result"
    }
   ],
   "source": []
  },
  {
   "cell_type": "code",
   "execution_count": null,
   "metadata": {},
   "outputs": [],
   "source": []
  }
 ],
 "metadata": {
  "kernelspec": {
   "display_name": "Python 3",
   "language": "python",
   "name": "python3"
  },
  "language_info": {
   "codemirror_mode": {
    "name": "ipython",
    "version": 3
   },
   "file_extension": ".py",
   "mimetype": "text/x-python",
   "name": "python",
   "nbconvert_exporter": "python",
   "pygments_lexer": "ipython3",
   "version": "3.7.0"
  }
 },
 "nbformat": 4,
 "nbformat_minor": 2
}
