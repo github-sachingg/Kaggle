{
 "cells": [
  {
   "cell_type": "code",
   "execution_count": 82,
   "metadata": {},
   "outputs": [],
   "source": [
    "import numpy as np\n",
    "import pandas as pd\n",
    "import seaborn as sn\n",
    "import statsmodels.api as sm\n",
    "import matplotlib.pyplot as plt\n",
    "from sklearn.linear_model import Ridge"
   ]
  },
  {
   "cell_type": "code",
   "execution_count": 83,
   "metadata": {},
   "outputs": [
    {
     "data": {
      "text/html": [
       "<div>\n",
       "<style scoped>\n",
       "    .dataframe tbody tr th:only-of-type {\n",
       "        vertical-align: middle;\n",
       "    }\n",
       "\n",
       "    .dataframe tbody tr th {\n",
       "        vertical-align: top;\n",
       "    }\n",
       "\n",
       "    .dataframe thead th {\n",
       "        text-align: right;\n",
       "    }\n",
       "</style>\n",
       "<table border=\"1\" class=\"dataframe\">\n",
       "  <thead>\n",
       "    <tr style=\"text-align: right;\">\n",
       "      <th></th>\n",
       "      <th>Id</th>\n",
       "      <th>MSSubClass</th>\n",
       "      <th>MSZoning</th>\n",
       "      <th>LotFrontage</th>\n",
       "      <th>LotArea</th>\n",
       "      <th>Street</th>\n",
       "      <th>Alley</th>\n",
       "      <th>LotShape</th>\n",
       "      <th>LandContour</th>\n",
       "      <th>Utilities</th>\n",
       "      <th>...</th>\n",
       "      <th>ScreenPorch</th>\n",
       "      <th>PoolArea</th>\n",
       "      <th>PoolQC</th>\n",
       "      <th>Fence</th>\n",
       "      <th>MiscFeature</th>\n",
       "      <th>MiscVal</th>\n",
       "      <th>MoSold</th>\n",
       "      <th>YrSold</th>\n",
       "      <th>SaleType</th>\n",
       "      <th>SaleCondition</th>\n",
       "    </tr>\n",
       "  </thead>\n",
       "  <tbody>\n",
       "    <tr>\n",
       "      <th>0</th>\n",
       "      <td>1461</td>\n",
       "      <td>20</td>\n",
       "      <td>RH</td>\n",
       "      <td>80.0</td>\n",
       "      <td>11622</td>\n",
       "      <td>Pave</td>\n",
       "      <td>NaN</td>\n",
       "      <td>Reg</td>\n",
       "      <td>Lvl</td>\n",
       "      <td>AllPub</td>\n",
       "      <td>...</td>\n",
       "      <td>120</td>\n",
       "      <td>0</td>\n",
       "      <td>NaN</td>\n",
       "      <td>MnPrv</td>\n",
       "      <td>NaN</td>\n",
       "      <td>0</td>\n",
       "      <td>6</td>\n",
       "      <td>2010</td>\n",
       "      <td>WD</td>\n",
       "      <td>Normal</td>\n",
       "    </tr>\n",
       "    <tr>\n",
       "      <th>1</th>\n",
       "      <td>1462</td>\n",
       "      <td>20</td>\n",
       "      <td>RL</td>\n",
       "      <td>81.0</td>\n",
       "      <td>14267</td>\n",
       "      <td>Pave</td>\n",
       "      <td>NaN</td>\n",
       "      <td>IR1</td>\n",
       "      <td>Lvl</td>\n",
       "      <td>AllPub</td>\n",
       "      <td>...</td>\n",
       "      <td>0</td>\n",
       "      <td>0</td>\n",
       "      <td>NaN</td>\n",
       "      <td>NaN</td>\n",
       "      <td>Gar2</td>\n",
       "      <td>12500</td>\n",
       "      <td>6</td>\n",
       "      <td>2010</td>\n",
       "      <td>WD</td>\n",
       "      <td>Normal</td>\n",
       "    </tr>\n",
       "    <tr>\n",
       "      <th>2</th>\n",
       "      <td>1463</td>\n",
       "      <td>60</td>\n",
       "      <td>RL</td>\n",
       "      <td>74.0</td>\n",
       "      <td>13830</td>\n",
       "      <td>Pave</td>\n",
       "      <td>NaN</td>\n",
       "      <td>IR1</td>\n",
       "      <td>Lvl</td>\n",
       "      <td>AllPub</td>\n",
       "      <td>...</td>\n",
       "      <td>0</td>\n",
       "      <td>0</td>\n",
       "      <td>NaN</td>\n",
       "      <td>MnPrv</td>\n",
       "      <td>NaN</td>\n",
       "      <td>0</td>\n",
       "      <td>3</td>\n",
       "      <td>2010</td>\n",
       "      <td>WD</td>\n",
       "      <td>Normal</td>\n",
       "    </tr>\n",
       "    <tr>\n",
       "      <th>3</th>\n",
       "      <td>1464</td>\n",
       "      <td>60</td>\n",
       "      <td>RL</td>\n",
       "      <td>78.0</td>\n",
       "      <td>9978</td>\n",
       "      <td>Pave</td>\n",
       "      <td>NaN</td>\n",
       "      <td>IR1</td>\n",
       "      <td>Lvl</td>\n",
       "      <td>AllPub</td>\n",
       "      <td>...</td>\n",
       "      <td>0</td>\n",
       "      <td>0</td>\n",
       "      <td>NaN</td>\n",
       "      <td>NaN</td>\n",
       "      <td>NaN</td>\n",
       "      <td>0</td>\n",
       "      <td>6</td>\n",
       "      <td>2010</td>\n",
       "      <td>WD</td>\n",
       "      <td>Normal</td>\n",
       "    </tr>\n",
       "    <tr>\n",
       "      <th>4</th>\n",
       "      <td>1465</td>\n",
       "      <td>120</td>\n",
       "      <td>RL</td>\n",
       "      <td>43.0</td>\n",
       "      <td>5005</td>\n",
       "      <td>Pave</td>\n",
       "      <td>NaN</td>\n",
       "      <td>IR1</td>\n",
       "      <td>HLS</td>\n",
       "      <td>AllPub</td>\n",
       "      <td>...</td>\n",
       "      <td>144</td>\n",
       "      <td>0</td>\n",
       "      <td>NaN</td>\n",
       "      <td>NaN</td>\n",
       "      <td>NaN</td>\n",
       "      <td>0</td>\n",
       "      <td>1</td>\n",
       "      <td>2010</td>\n",
       "      <td>WD</td>\n",
       "      <td>Normal</td>\n",
       "    </tr>\n",
       "  </tbody>\n",
       "</table>\n",
       "<p>5 rows × 80 columns</p>\n",
       "</div>"
      ],
      "text/plain": [
       "     Id  MSSubClass MSZoning  LotFrontage  LotArea Street Alley LotShape  \\\n",
       "0  1461          20       RH         80.0    11622   Pave   NaN      Reg   \n",
       "1  1462          20       RL         81.0    14267   Pave   NaN      IR1   \n",
       "2  1463          60       RL         74.0    13830   Pave   NaN      IR1   \n",
       "3  1464          60       RL         78.0     9978   Pave   NaN      IR1   \n",
       "4  1465         120       RL         43.0     5005   Pave   NaN      IR1   \n",
       "\n",
       "  LandContour Utilities      ...       ScreenPorch PoolArea PoolQC  Fence  \\\n",
       "0         Lvl    AllPub      ...               120        0    NaN  MnPrv   \n",
       "1         Lvl    AllPub      ...                 0        0    NaN    NaN   \n",
       "2         Lvl    AllPub      ...                 0        0    NaN  MnPrv   \n",
       "3         Lvl    AllPub      ...                 0        0    NaN    NaN   \n",
       "4         HLS    AllPub      ...               144        0    NaN    NaN   \n",
       "\n",
       "  MiscFeature MiscVal MoSold  YrSold  SaleType  SaleCondition  \n",
       "0         NaN       0      6    2010        WD         Normal  \n",
       "1        Gar2   12500      6    2010        WD         Normal  \n",
       "2         NaN       0      3    2010        WD         Normal  \n",
       "3         NaN       0      6    2010        WD         Normal  \n",
       "4         NaN       0      1    2010        WD         Normal  \n",
       "\n",
       "[5 rows x 80 columns]"
      ]
     },
     "execution_count": 83,
     "metadata": {},
     "output_type": "execute_result"
    }
   ],
   "source": [
    "df = pd.read_csv(r\"..\\input\\train.csv\")\n",
    "test_df = pd.read_csv(r\"..\\input\\test.csv\")\n",
    "\n",
    "test_df.head()\n",
    "\n"
   ]
  },
  {
   "cell_type": "code",
   "execution_count": null,
   "metadata": {},
   "outputs": [],
   "source": []
  },
  {
   "cell_type": "code",
   "execution_count": 84,
   "metadata": {},
   "outputs": [],
   "source": [
    "#Get the dummy variables for all features.\n",
    "# 1 : Numerical : Fill with the mean values\n",
    "# 2:  Categorical : 1) Replace NA with None, as NA has some meaning. \n",
    "#                      Like NA for parking will mean No parking and may effect SaleCost\n",
    "#Rest all delete the rows\n",
    "\n",
    "def clean_data(df):\n",
    "    df['MasVnrType'].fillna(\"NoNe\",inplace=True)\n",
    "    df['MasVnrArea'].fillna(df['MasVnrArea'].mean(),inplace=True)\n",
    "    df['BsmtFinSF2'].fillna(df['BsmtFinSF2'].mean(),inplace=True)\n",
    "    df['BsmtUnfSF'].fillna(df['BsmtUnfSF'].mean(),inplace=True)\n",
    "    df['TotalBsmtSF'].fillna(df['TotalBsmtSF'].mean(),inplace=True)\n",
    "    df['BsmtFullBath'].fillna(df['BsmtFullBath'].mean(),inplace=True)\n",
    "    df['BsmtHalfBath'].fillna(df['BsmtHalfBath'].mean(),inplace=True)\n",
    "    df['LotFrontage'].fillna(df['LotFrontage'].mean(),inplace=True)\n",
    "    df['Alley'].fillna(\"NoNe\",inplace=True)\n",
    "    df['FireplaceQu'].fillna(\"NoNe\",inplace=True)\n",
    "    df['GarageType'].fillna(\"NoNe\",inplace=True)\n",
    "    df['GarageYrBlt'].fillna(\"NoNe\",inplace=True)\n",
    "    df['GarageFinish'].fillna(\"NoNe\",inplace=True)\n",
    "    df['GarageQual'].fillna(\"NoNe\",inplace=True)\n",
    "    df['GarageCond'].fillna(\"NoNe\",inplace=True)\n",
    "    df['PoolQC'].fillna(\"NoNe\",inplace=True)\n",
    "    df['Fence'].fillna(\"NoNe\",inplace=True)\n",
    "    df['MiscFeature'].fillna(\"NoNe\",inplace=True)\n",
    "    df['GarageCars'].fillna(df['GarageCars'].mean(),inplace=True)\n",
    "    df['GarageArea'].fillna(df['GarageArea'].mean(),inplace=True)\n",
    "    #For rest of he variables we will drop the data\n",
    "    #df.dropna(axis=0,inplace=True)\n",
    "    return df\n",
    "def clean_data_test(df):\n",
    "    df['MasVnrType'].fillna(\"NoNe\",inplace=True)\n",
    "    df['MasVnrArea'].fillna(df['MasVnrArea'].mean(),inplace=True)\n",
    "    df['BsmtFinSF2'].fillna(df['BsmtFinSF2'].mean(),inplace=True)\n",
    "    df['BsmtUnfSF'].fillna(df['BsmtUnfSF'].mean(),inplace=True)\n",
    "    df['TotalBsmtSF'].fillna(df['TotalBsmtSF'].mean(),inplace=True)\n",
    "    df['BsmtFullBath'].fillna(df['BsmtFullBath'].mean(),inplace=True)\n",
    "    df['BsmtHalfBath'].fillna(df['BsmtHalfBath'].mean(),inplace=True)\n",
    "    df['LotFrontage'].fillna(df['LotFrontage'].mean(),inplace=True)\n",
    "    df['Alley'].fillna(\"NoNe\",inplace=True)\n",
    "    df['FireplaceQu'].fillna(\"NoNe\",inplace=True)\n",
    "    df['GarageType'].fillna(\"NoNe\",inplace=True)\n",
    "    df['GarageYrBlt'].fillna(\"NoNe\",inplace=True)\n",
    "    df['GarageFinish'].fillna(\"NoNe\",inplace=True)\n",
    "    df['GarageQual'].fillna(\"NoNe\",inplace=True)\n",
    "    df['GarageCond'].fillna(\"NoNe\",inplace=True)\n",
    "    df['PoolQC'].fillna(\"NoNe\",inplace=True)\n",
    "    df['Fence'].fillna(\"NoNe\",inplace=True)\n",
    "    df['MiscFeature'].fillna(\"NoNe\",inplace=True)\n",
    "    df['GarageCars'].fillna(df['GarageCars'].mean(),inplace=True)\n",
    "    df['GarageArea'].fillna(df['GarageArea'].mean(),inplace=True)\n",
    "    df['BsmtFinSF1'].fillna(df['BsmtFinSF1'].mean(),inplace=True)\n",
    "    \n",
    "    return df\n",
    "    \n",
    "def get_dummies(df):\n",
    "    df = pd.get_dummies(df)\n",
    "    return df"
   ]
  },
  {
   "cell_type": "code",
   "execution_count": 85,
   "metadata": {},
   "outputs": [
    {
     "name": "stdout",
     "output_type": "stream",
     "text": [
      "(1460, 81)\n",
      "(1459, 80)\n"
     ]
    }
   ],
   "source": [
    "df = clean_data(df)\n",
    "test_df = clean_data_test(test_df)\n",
    "print(df.shape)\n",
    "print(test_df.shape)"
   ]
  },
  {
   "cell_type": "code",
   "execution_count": null,
   "metadata": {},
   "outputs": [],
   "source": []
  },
  {
   "cell_type": "code",
   "execution_count": 86,
   "metadata": {},
   "outputs": [
    {
     "name": "stdout",
     "output_type": "stream",
     "text": [
      "(1459, 378)\n",
      "(1460, 396)\n"
     ]
    }
   ],
   "source": [
    "#convert the categorical variable by adding dummies\n",
    "df = get_dummies(df)\n",
    "test_df = get_dummies(test_df)\n",
    "\n",
    "#Test to see if both the test & train data and same columns\n",
    "print(test_df.shape)\n",
    "\n",
    "df['SalePrice'] = np.log(df['SalePrice'])\n",
    "\n",
    "Y_train = df['SalePrice']\n",
    "df.drop('SalePrice',axis=1,inplace=True)\n",
    "\n",
    "print(df.shape)\n"
   ]
  },
  {
   "cell_type": "code",
   "execution_count": 87,
   "metadata": {},
   "outputs": [],
   "source": [
    "from sklearn.preprocessing import MinMaxScaler\n",
    "from sklearn.decomposition import PCA\n",
    "def doMinMaxScaling(df):\n",
    "    scalar = MinMaxScaler(feature_range = [0,1])\n",
    "    data = scalar.fit_transform(df)\n",
    "    return data\n",
    "\n",
    "def doPCA(df,ncomponents=0):\n",
    "    if ncomponents:\n",
    "        pca = PCA(n_components=ncomponents)\n",
    "        pcaData = pca.fit_transform(df)\n",
    "        return pca,pcaData\n",
    "    else:\n",
    "        pca = PCA().fit(df)\n",
    "        return pca\n",
    "    \n",
    "def getDataFromDf(df):\n",
    "    return df.iloc[:,:]"
   ]
  },
  {
   "cell_type": "code",
   "execution_count": 88,
   "metadata": {},
   "outputs": [],
   "source": [
    "train_data = getDataFromDf(df)\n"
   ]
  },
  {
   "cell_type": "code",
   "execution_count": 89,
   "metadata": {},
   "outputs": [],
   "source": [
    "preProcData = doMinMaxScaling(train_data)\n"
   ]
  },
  {
   "cell_type": "code",
   "execution_count": 90,
   "metadata": {},
   "outputs": [],
   "source": [
    "pca = doPCA(preProcData)"
   ]
  },
  {
   "cell_type": "code",
   "execution_count": 91,
   "metadata": {},
   "outputs": [
    {
     "data": {
      "image/png": "[encoded data removed]",
      "text/plain": [
       "<Figure size 432x288 with 1 Axes>"
      ]
     },
     "metadata": {
      "needs_background": "light"
     },
     "output_type": "display_data"
    }
   ],
   "source": [
    "plt.plot(np.cumsum(pca.explained_variance_ratio_))\n",
    "plt.xlabel(\"Components\")\n",
    "plt.ylabel('Variance')\n",
    "plt.show()\n"
   ]
  },
  {
   "cell_type": "code",
   "execution_count": 92,
   "metadata": {},
   "outputs": [],
   "source": [
    "#Looks like 170 is the number we can take for the number of components\n"
   ]
  },
  {
   "cell_type": "code",
   "execution_count": 93,
   "metadata": {},
   "outputs": [],
   "source": [
    "pca,trainPcaData = doPCA(preProcData,ncomponents=170)\n",
    "params = pca.get_params()"
   ]
  },
  {
   "cell_type": "code",
   "execution_count": 94,
   "metadata": {},
   "outputs": [
    {
     "data": {
      "text/html": [
       "<div>\n",
       "<style scoped>\n",
       "    .dataframe tbody tr th:only-of-type {\n",
       "        vertical-align: middle;\n",
       "    }\n",
       "\n",
       "    .dataframe tbody tr th {\n",
       "        vertical-align: top;\n",
       "    }\n",
       "\n",
       "    .dataframe thead th {\n",
       "        text-align: right;\n",
       "    }\n",
       "</style>\n",
       "<table border=\"1\" class=\"dataframe\">\n",
       "  <thead>\n",
       "    <tr style=\"text-align: right;\">\n",
       "      <th></th>\n",
       "      <th>0</th>\n",
       "      <th>1</th>\n",
       "      <th>2</th>\n",
       "      <th>3</th>\n",
       "      <th>4</th>\n",
       "      <th>5</th>\n",
       "      <th>6</th>\n",
       "      <th>7</th>\n",
       "      <th>8</th>\n",
       "      <th>9</th>\n",
       "      <th>...</th>\n",
       "      <th>160</th>\n",
       "      <th>161</th>\n",
       "      <th>162</th>\n",
       "      <th>163</th>\n",
       "      <th>164</th>\n",
       "      <th>165</th>\n",
       "      <th>166</th>\n",
       "      <th>167</th>\n",
       "      <th>168</th>\n",
       "      <th>169</th>\n",
       "    </tr>\n",
       "  </thead>\n",
       "  <tbody>\n",
       "    <tr>\n",
       "      <th>0</th>\n",
       "      <td>2.105940</td>\n",
       "      <td>0.475911</td>\n",
       "      <td>-0.511311</td>\n",
       "      <td>-1.345076</td>\n",
       "      <td>-0.547346</td>\n",
       "      <td>-0.134278</td>\n",
       "      <td>-0.631703</td>\n",
       "      <td>-0.369111</td>\n",
       "      <td>0.418643</td>\n",
       "      <td>-0.448304</td>\n",
       "      <td>...</td>\n",
       "      <td>-0.005202</td>\n",
       "      <td>0.020121</td>\n",
       "      <td>0.010245</td>\n",
       "      <td>0.047044</td>\n",
       "      <td>-0.045821</td>\n",
       "      <td>0.003838</td>\n",
       "      <td>-0.016764</td>\n",
       "      <td>-0.022741</td>\n",
       "      <td>0.004269</td>\n",
       "      <td>0.026342</td>\n",
       "    </tr>\n",
       "    <tr>\n",
       "      <th>1</th>\n",
       "      <td>-0.292918</td>\n",
       "      <td>-0.945770</td>\n",
       "      <td>-0.117115</td>\n",
       "      <td>-0.420407</td>\n",
       "      <td>0.275591</td>\n",
       "      <td>-0.121424</td>\n",
       "      <td>0.350893</td>\n",
       "      <td>-0.393735</td>\n",
       "      <td>-0.470385</td>\n",
       "      <td>0.405297</td>\n",
       "      <td>...</td>\n",
       "      <td>0.096277</td>\n",
       "      <td>-0.006095</td>\n",
       "      <td>-0.112663</td>\n",
       "      <td>0.059004</td>\n",
       "      <td>-0.048427</td>\n",
       "      <td>-0.077042</td>\n",
       "      <td>0.040749</td>\n",
       "      <td>-0.084122</td>\n",
       "      <td>0.053867</td>\n",
       "      <td>-0.127145</td>\n",
       "    </tr>\n",
       "    <tr>\n",
       "      <th>2</th>\n",
       "      <td>2.525644</td>\n",
       "      <td>-0.259819</td>\n",
       "      <td>-1.078696</td>\n",
       "      <td>-0.472536</td>\n",
       "      <td>0.232778</td>\n",
       "      <td>-0.033760</td>\n",
       "      <td>-0.036474</td>\n",
       "      <td>-0.346551</td>\n",
       "      <td>0.302158</td>\n",
       "      <td>-0.379319</td>\n",
       "      <td>...</td>\n",
       "      <td>-0.048262</td>\n",
       "      <td>-0.092954</td>\n",
       "      <td>-0.083244</td>\n",
       "      <td>0.115686</td>\n",
       "      <td>0.041417</td>\n",
       "      <td>0.000568</td>\n",
       "      <td>-0.049700</td>\n",
       "      <td>-0.005620</td>\n",
       "      <td>0.022175</td>\n",
       "      <td>0.014100</td>\n",
       "    </tr>\n",
       "    <tr>\n",
       "      <th>3</th>\n",
       "      <td>-0.766172</td>\n",
       "      <td>0.439606</td>\n",
       "      <td>-0.918046</td>\n",
       "      <td>1.671792</td>\n",
       "      <td>0.513645</td>\n",
       "      <td>-0.755962</td>\n",
       "      <td>0.341853</td>\n",
       "      <td>0.347858</td>\n",
       "      <td>0.249921</td>\n",
       "      <td>0.348625</td>\n",
       "      <td>...</td>\n",
       "      <td>-0.102147</td>\n",
       "      <td>-0.109486</td>\n",
       "      <td>-0.102437</td>\n",
       "      <td>-0.071301</td>\n",
       "      <td>-0.039274</td>\n",
       "      <td>0.069470</td>\n",
       "      <td>0.051368</td>\n",
       "      <td>0.118450</td>\n",
       "      <td>0.017040</td>\n",
       "      <td>-0.137354</td>\n",
       "    </tr>\n",
       "    <tr>\n",
       "      <th>4</th>\n",
       "      <td>2.609064</td>\n",
       "      <td>-0.400176</td>\n",
       "      <td>-1.237370</td>\n",
       "      <td>-0.209184</td>\n",
       "      <td>0.348209</td>\n",
       "      <td>0.039803</td>\n",
       "      <td>0.026895</td>\n",
       "      <td>0.001394</td>\n",
       "      <td>0.560424</td>\n",
       "      <td>-0.482780</td>\n",
       "      <td>...</td>\n",
       "      <td>-0.019147</td>\n",
       "      <td>-0.109470</td>\n",
       "      <td>-0.039831</td>\n",
       "      <td>0.102028</td>\n",
       "      <td>0.060029</td>\n",
       "      <td>0.023730</td>\n",
       "      <td>-0.158076</td>\n",
       "      <td>-0.006593</td>\n",
       "      <td>0.019199</td>\n",
       "      <td>-0.094160</td>\n",
       "    </tr>\n",
       "  </tbody>\n",
       "</table>\n",
       "<p>5 rows × 170 columns</p>\n",
       "</div>"
      ],
      "text/plain": [
       "        0         1         2         3         4         5         6    \\\n",
       "0  2.105940  0.475911 -0.511311 -1.345076 -0.547346 -0.134278 -0.631703   \n",
       "1 -0.292918 -0.945770 -0.117115 -0.420407  0.275591 -0.121424  0.350893   \n",
       "2  2.525644 -0.259819 -1.078696 -0.472536  0.232778 -0.033760 -0.036474   \n",
       "3 -0.766172  0.439606 -0.918046  1.671792  0.513645 -0.755962  0.341853   \n",
       "4  2.609064 -0.400176 -1.237370 -0.209184  0.348209  0.039803  0.026895   \n",
       "\n",
       "        7         8         9      ...          160       161       162  \\\n",
       "0 -0.369111  0.418643 -0.448304    ...    -0.005202  0.020121  0.010245   \n",
       "1 -0.393735 -0.470385  0.405297    ...     0.096277 -0.006095 -0.112663   \n",
       "2 -0.346551  0.302158 -0.379319    ...    -0.048262 -0.092954 -0.083244   \n",
       "3  0.347858  0.249921  0.348625    ...    -0.102147 -0.109486 -0.102437   \n",
       "4  0.001394  0.560424 -0.482780    ...    -0.019147 -0.109470 -0.039831   \n",
       "\n",
       "        163       164       165       166       167       168       169  \n",
       "0  0.047044 -0.045821  0.003838 -0.016764 -0.022741  0.004269  0.026342  \n",
       "1  0.059004 -0.048427 -0.077042  0.040749 -0.084122  0.053867 -0.127145  \n",
       "2  0.115686  0.041417  0.000568 -0.049700 -0.005620  0.022175  0.014100  \n",
       "3 -0.071301 -0.039274  0.069470  0.051368  0.118450  0.017040 -0.137354  \n",
       "4  0.102028  0.060029  0.023730 -0.158076 -0.006593  0.019199 -0.094160  \n",
       "\n",
       "[5 rows x 170 columns]"
      ]
     },
     "execution_count": 94,
     "metadata": {},
     "output_type": "execute_result"
    }
   ],
   "source": [
    "trainPcaData_df = pd.DataFrame(trainPcaData)\n",
    "trainPcaData_df.head()"
   ]
  },
  {
   "cell_type": "code",
   "execution_count": 95,
   "metadata": {},
   "outputs": [],
   "source": [
    "X_train = trainPcaData_df"
   ]
  },
  {
   "cell_type": "code",
   "execution_count": 96,
   "metadata": {},
   "outputs": [],
   "source": [
    "#Now Run the Ridge Regularization\n",
    "from  sklearn.linear_model  import Ridge\n",
    "def reg_alpha(X,Y,alpha,normalize=True):\n",
    "    lreg = Ridge(alpha)\n",
    "    model = lreg.fit(X,Y)\n",
    "    Y_pred = model.predict(X)\n",
    "    return model,Y_pred,lreg\n",
    "\n",
    "def get_rmse(true_val,pred_val):\n",
    "    error = true_val-pred_val\n",
    "    rmse = np.sqrt(np.mean(error**2))\n",
    "    return rmse"
   ]
  },
  {
   "cell_type": "code",
   "execution_count": 97,
   "metadata": {},
   "outputs": [],
   "source": [
    "X = X_train\n",
    "Y = Y_train"
   ]
  },
  {
   "cell_type": "code",
   "execution_count": 98,
   "metadata": {},
   "outputs": [
    {
     "data": {
      "text/html": [
       "<div>\n",
       "<style scoped>\n",
       "    .dataframe tbody tr th:only-of-type {\n",
       "        vertical-align: middle;\n",
       "    }\n",
       "\n",
       "    .dataframe tbody tr th {\n",
       "        vertical-align: top;\n",
       "    }\n",
       "\n",
       "    .dataframe thead th {\n",
       "        text-align: right;\n",
       "    }\n",
       "</style>\n",
       "<table border=\"1\" class=\"dataframe\">\n",
       "  <thead>\n",
       "    <tr style=\"text-align: right;\">\n",
       "      <th></th>\n",
       "      <th>alpha</th>\n",
       "      <th>rmse</th>\n",
       "      <th>score</th>\n",
       "    </tr>\n",
       "  </thead>\n",
       "  <tbody>\n",
       "    <tr>\n",
       "      <th>0</th>\n",
       "      <td>100.0000</td>\n",
       "      <td>0.154825</td>\n",
       "      <td>0.849668</td>\n",
       "    </tr>\n",
       "    <tr>\n",
       "      <th>1</th>\n",
       "      <td>10.0000</td>\n",
       "      <td>0.126165</td>\n",
       "      <td>0.900173</td>\n",
       "    </tr>\n",
       "    <tr>\n",
       "      <th>2</th>\n",
       "      <td>1.0000</td>\n",
       "      <td>0.123781</td>\n",
       "      <td>0.903911</td>\n",
       "    </tr>\n",
       "    <tr>\n",
       "      <th>3</th>\n",
       "      <td>0.1000</td>\n",
       "      <td>0.123740</td>\n",
       "      <td>0.903973</td>\n",
       "    </tr>\n",
       "    <tr>\n",
       "      <th>4</th>\n",
       "      <td>0.0100</td>\n",
       "      <td>0.123740</td>\n",
       "      <td>0.903974</td>\n",
       "    </tr>\n",
       "    <tr>\n",
       "      <th>5</th>\n",
       "      <td>0.0010</td>\n",
       "      <td>0.123740</td>\n",
       "      <td>0.903974</td>\n",
       "    </tr>\n",
       "    <tr>\n",
       "      <th>6</th>\n",
       "      <td>0.0001</td>\n",
       "      <td>0.123740</td>\n",
       "      <td>0.903974</td>\n",
       "    </tr>\n",
       "  </tbody>\n",
       "</table>\n",
       "</div>"
      ],
      "text/plain": [
       "      alpha      rmse     score\n",
       "0  100.0000  0.154825  0.849668\n",
       "1   10.0000  0.126165  0.900173\n",
       "2    1.0000  0.123781  0.903911\n",
       "3    0.1000  0.123740  0.903973\n",
       "4    0.0100  0.123740  0.903974\n",
       "5    0.0010  0.123740  0.903974\n",
       "6    0.0001  0.123740  0.903974"
      ]
     },
     "execution_count": 98,
     "metadata": {},
     "output_type": "execute_result"
    }
   ],
   "source": [
    "output = []\n",
    "alpha = [100,10,1,0.1,0.01,0.001,0.0001]\n",
    "count=0\n",
    "for alpha_val in alpha:\n",
    "    X = sm.add_constant(X)\n",
    "    model,Y_pred_alpha,lreg = reg_alpha(X,Y,alpha_val)\n",
    "    rmse = get_rmse(Y,Y_pred_alpha)\n",
    "    score = model.score(X,Y)\n",
    "    output.append((alpha_val,rmse,score))\n",
    "    count+= 1\n",
    "    X.drop('const',axis=1,inplace=True)\n",
    "\n",
    "output_df = pd.DataFrame(output,columns=['alpha','rmse','score'])\n",
    "output_df  \n"
   ]
  },
  {
   "cell_type": "code",
   "execution_count": 99,
   "metadata": {},
   "outputs": [
    {
     "data": {
      "text/plain": [
       "<seaborn.axisgrid.FacetGrid at 0x1ef75596780>"
      ]
     },
     "execution_count": 99,
     "metadata": {},
     "output_type": "execute_result"
    },
    {
     "data": {
      "image/png": "[encoded data removed]",
      "text/plain": [
       "<Figure size 360x360 with 1 Axes>"
      ]
     },
     "metadata": {
      "needs_background": "light"
     },
     "output_type": "display_data"
    }
   ],
   "source": [
    "sn.relplot(x='rmse',y='score',kind=\"line\",data=output_df)"
   ]
  },
  {
   "cell_type": "code",
   "execution_count": 100,
   "metadata": {},
   "outputs": [
    {
     "data": {
      "text/plain": [
       "<seaborn.axisgrid.FacetGrid at 0x1ef75953908>"
      ]
     },
     "execution_count": 100,
     "metadata": {},
     "output_type": "execute_result"
    },
    {
     "data": {
      "image/png": "[encoded data removed]",
      "text/plain": [
       "<Figure size 360x360 with 1 Axes>"
      ]
     },
     "metadata": {
      "needs_background": "light"
     },
     "output_type": "display_data"
    }
   ],
   "source": [
    "sn.relplot(x='alpha',y='score',kind=\"line\",data=output_df)"
   ]
  },
  {
   "cell_type": "code",
   "execution_count": 101,
   "metadata": {},
   "outputs": [
    {
     "data": {
      "text/plain": [
       "<seaborn.axisgrid.FacetGrid at 0x1ef755a7240>"
      ]
     },
     "execution_count": 101,
     "metadata": {},
     "output_type": "execute_result"
    },
    {
     "data": {
      "image/png": "[encoded data removed]",
      "text/plain": [
       "<Figure size 360x360 with 1 Axes>"
      ]
     },
     "metadata": {
      "needs_background": "light"
     },
     "output_type": "display_data"
    }
   ],
   "source": [
    "sn.relplot(x='alpha',y='rmse',kind=\"line\",data=output_df)"
   ]
  },
  {
   "cell_type": "code",
   "execution_count": 102,
   "metadata": {},
   "outputs": [],
   "source": [
    "#Let's keep alpha as 0.0100 as rest of the results are not realistic\n",
    "\n",
    "alpha = 0.01\n",
    "X = sm.add_constant(X)\n",
    "model,Y_pred_alpha_train,lreg = reg_alpha(X,Y,alpha_val)"
   ]
  },
  {
   "cell_type": "code",
   "execution_count": 105,
   "metadata": {},
   "outputs": [],
   "source": [
    "#Prepare the test data\n",
    "test_data = getDataFromDf(test_df)\n",
    "testPreProcData = doMinMaxScaling(test_data)\n",
    "pca,testPcaData = doPCA(testPreProcData,ncomponents=170)\n",
    "X_test = pd.DataFrame(testPcaData)"
   ]
  },
  {
   "cell_type": "code",
   "execution_count": null,
   "metadata": {},
   "outputs": [],
   "source": []
  },
  {
   "cell_type": "code",
   "execution_count": 106,
   "metadata": {},
   "outputs": [
    {
     "data": {
      "text/plain": [
       "array([12.08777553, 11.97377529, 12.26636953, ..., 11.93785486,\n",
       "       12.13377168, 12.02180465])"
      ]
     },
     "execution_count": 106,
     "metadata": {},
     "output_type": "execute_result"
    }
   ],
   "source": [
    "X_test = sm.add_constant(X_test)\n",
    "Y_pred_alpha_test = model.predict(X_test)\n",
    "Y_pred_alpha_test"
   ]
  },
  {
   "cell_type": "code",
   "execution_count": 107,
   "metadata": {},
   "outputs": [],
   "source": [
    "Y_pred_alpha_test = np.exp(Y_pred_alpha_test)"
   ]
  },
  {
   "cell_type": "code",
   "execution_count": 108,
   "metadata": {},
   "outputs": [],
   "source": [
    "Predict = pd.DataFrame({'Id': test_df.Id, 'SalePrice': (Y_pred_alpha_test)})\n",
    "Predict.reset_index(drop=True,inplace=True)\n",
    "Predict.to_csv('submission_PCA.csv')\n"
   ]
  },
  {
   "cell_type": "code",
   "execution_count": 109,
   "metadata": {},
   "outputs": [
    {
     "data": {
      "text/plain": [
       "(1460, 170)"
      ]
     },
     "execution_count": 109,
     "metadata": {},
     "output_type": "execute_result"
    }
   ],
   "source": [
    "#Lets try to get the data baxk from the PCA data 1460, 396\n",
    "trainPcaData.shape"
   ]
  },
  {
   "cell_type": "code",
   "execution_count": 110,
   "metadata": {},
   "outputs": [
    {
     "data": {
      "text/plain": [
       "(1460, 396)"
      ]
     },
     "execution_count": 110,
     "metadata": {},
     "output_type": "execute_result"
    }
   ],
   "source": [
    "train_data.shape "
   ]
  },
  {
   "cell_type": "code",
   "execution_count": 81,
   "metadata": {},
   "outputs": [
    {
     "data": {
      "text/plain": [
       "(1460,)"
      ]
     },
     "execution_count": 81,
     "metadata": {},
     "output_type": "execute_result"
    }
   ],
   "source": [
    "Y_pred_alpha_train.shape"
   ]
  },
  {
   "cell_type": "code",
   "execution_count": 114,
   "metadata": {},
   "outputs": [],
   "source": [
    "#trainApprox = np.dot(trainPcaData.T,train_data)\n",
    "params = pca.get_params(deep=True)"
   ]
  },
  {
   "cell_type": "code",
   "execution_count": 115,
   "metadata": {},
   "outputs": [
    {
     "data": {
      "text/plain": [
       "{'copy': True,\n",
       " 'iterated_power': 'auto',\n",
       " 'n_components': 170,\n",
       " 'random_state': None,\n",
       " 'svd_solver': 'auto',\n",
       " 'tol': 0.0,\n",
       " 'whiten': False}"
      ]
     },
     "execution_count": 115,
     "metadata": {},
     "output_type": "execute_result"
    }
   ],
   "source": [
    "params"
   ]
  },
  {
   "cell_type": "code",
   "execution_count": 118,
   "metadata": {},
   "outputs": [],
   "source": [
    "XApprox = pca.inverse_transform(trainPcaData)"
   ]
  },
  {
   "cell_type": "code",
   "execution_count": 119,
   "metadata": {},
   "outputs": [],
   "source": [
    "XApprox_df = pd.DataFrame(XApprox)"
   ]
  },
  {
   "cell_type": "code",
   "execution_count": 120,
   "metadata": {},
   "outputs": [
    {
     "data": {
      "text/plain": [
       "(1460, 378)"
      ]
     },
     "execution_count": 120,
     "metadata": {},
     "output_type": "execute_result"
    }
   ],
   "source": [
    "XApprox_df.shape"
   ]
  },
  {
   "cell_type": "code",
   "execution_count": 121,
   "metadata": {},
   "outputs": [],
   "source": [
    "XTestApprox = pca.inverse_transform(testPcaData)"
   ]
  },
  {
   "cell_type": "code",
   "execution_count": 122,
   "metadata": {},
   "outputs": [],
   "source": [
    "XTestApprox_df = pd.DataFrame(XTestApprox)"
   ]
  },
  {
   "cell_type": "code",
   "execution_count": 123,
   "metadata": {},
   "outputs": [
    {
     "data": {
      "text/plain": [
       "(1459, 378)"
      ]
     },
     "execution_count": 123,
     "metadata": {},
     "output_type": "execute_result"
    }
   ],
   "source": [
    "XTestApprox_df.shape"
   ]
  },
  {
   "cell_type": "code",
   "execution_count": null,
   "metadata": {},
   "outputs": [],
   "source": []
  }
 ],
 "metadata": {
  "kernelspec": {
   "display_name": "Python 3",
   "language": "python",
   "name": "python3"
  },
  "language_info": {
   "codemirror_mode": {
    "name": "ipython",
    "version": 3
   },
   "file_extension": ".py",
   "mimetype": "text/x-python",
   "name": "python",
   "nbconvert_exporter": "python",
   "pygments_lexer": "ipython3",
   "version": "3.7.0"
  }
 },
 "nbformat": 4,
 "nbformat_minor": 2
}
